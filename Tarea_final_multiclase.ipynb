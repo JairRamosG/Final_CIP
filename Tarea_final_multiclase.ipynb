{
  "cells": [
    {
      "cell_type": "markdown",
      "metadata": {
        "id": "3nC6zrlc-vUz"
      },
      "source": [
        "# Predictive Maintenance\n",
        "\n",
        "\n",
        "Since real predictive maintenance datasets are generally difficult to obtain and in particular difficult to publish, we present and provide a synthetic dataset that reflects real predictive maintenance encountered in the industry to the best of our knowledge.\n",
        "\n",
        "The dataset consists of 10 000 data points stored as rows with 14 features in columns\n",
        "\n",
        "\n",
        "\n",
        "*   UID: unique identifier ranging from 1 to 10000\n",
        "*   ProductID: consisting of a letter L, M, or H for low (50% of all products),\n",
        "medium (30%), and high (20%) as product quality variants and a variant-specific serial number\n",
        "\n",
        "\n",
        "\n",
        "*   Air temperature [K]: generated using a random walk process later normalized to a standard deviation of 2 K around 300 K\n",
        "*   Process temperature [K]: generated using a random walk process normalized to a standard deviation of 1 K, added to the air temperature plus 10 K.\n",
        "\n",
        "\n",
        "\n",
        "\n",
        "*   Rotational speed [rpm]: calculated from powepower of 2860 W, overlaid with a normally distributed noise\n",
        "*   torque [Nm]: torque values are normally distributed around 40 Nm with an Ïƒ = 10 Nm and no negative values.\n",
        "\n",
        "\n",
        "\n",
        "*   Tool wear [min]: The quality variants H/M/L add 5/3/2 minutes of tool wear to the used tool in the process.\n",
        "\n",
        "A 'machine failure' label that indicates, whether the machine has failed in this particular data point for any of the following failure modes are true.\n",
        "Important : There are two Targets - Do not make the mistake of using one of them as feature, as it will lead to leakage.\n",
        "\n",
        "\n",
        "\n",
        "*   Target : Failure or Not\n",
        "*   Failure Type : Type of Failure\n",
        "\n",
        "\n",
        "\n",
        "\n"
      ]
    },
    {
      "cell_type": "code",
      "execution_count": 1,
      "metadata": {
        "colab": {
          "base_uri": "https://localhost:8080/",
          "height": 383
        },
        "id": "QXjI55lX9RFL",
        "outputId": "e31bc7d7-6d1d-4f00-e9ce-aeeb84d5d756"
      },
      "outputs": [
        {
          "name": "stderr",
          "output_type": "stream",
          "text": [
            "2025-06-17 08:45:55.242993: I tensorflow/core/util/port.cc:153] oneDNN custom operations are on. You may see slightly different numerical results due to floating-point round-off errors from different computation orders. To turn them off, set the environment variable `TF_ENABLE_ONEDNN_OPTS=0`.\n",
            "2025-06-17 08:45:55.251073: I external/local_xla/xla/tsl/cuda/cudart_stub.cc:32] Could not find cuda drivers on your machine, GPU will not be used.\n",
            "2025-06-17 08:45:55.322248: I external/local_xla/xla/tsl/cuda/cudart_stub.cc:32] Could not find cuda drivers on your machine, GPU will not be used.\n",
            "2025-06-17 08:45:55.401466: E external/local_xla/xla/stream_executor/cuda/cuda_fft.cc:467] Unable to register cuFFT factory: Attempting to register factory for plugin cuFFT when one has already been registered\n",
            "WARNING: All log messages before absl::InitializeLog() is called are written to STDERR\n",
            "E0000 00:00:1750171555.490086    3170 cuda_dnn.cc:8579] Unable to register cuDNN factory: Attempting to register factory for plugin cuDNN when one has already been registered\n",
            "E0000 00:00:1750171555.514151    3170 cuda_blas.cc:1407] Unable to register cuBLAS factory: Attempting to register factory for plugin cuBLAS when one has already been registered\n",
            "W0000 00:00:1750171555.653135    3170 computation_placer.cc:177] computation placer already registered. Please check linkage and avoid linking the same target more than once.\n",
            "W0000 00:00:1750171555.653178    3170 computation_placer.cc:177] computation placer already registered. Please check linkage and avoid linking the same target more than once.\n",
            "W0000 00:00:1750171555.653183    3170 computation_placer.cc:177] computation placer already registered. Please check linkage and avoid linking the same target more than once.\n",
            "W0000 00:00:1750171555.653186    3170 computation_placer.cc:177] computation placer already registered. Please check linkage and avoid linking the same target more than once.\n",
            "2025-06-17 08:45:55.670596: I tensorflow/core/platform/cpu_feature_guard.cc:210] This TensorFlow binary is optimized to use available CPU instructions in performance-critical operations.\n",
            "To enable the following instructions: AVX2 AVX_VNNI FMA, in other operations, rebuild TensorFlow with the appropriate compiler flags.\n"
          ]
        }
      ],
      "source": [
        "import pandas as pd\n",
        "from sklearn.preprocessing import LabelEncoder\n",
        "from sklearn.model_selection import StratifiedKFold\n",
        "from sklearn.neighbors import KNeighborsClassifier\n",
        "from imblearn.over_sampling import SMOTE\n",
        "from sklearn.metrics import confusion_matrix\n",
        "from sklearn.preprocessing import label_binarize\n",
        "from sklearn.metrics import(\n",
        "    precision_score, recall_score, f1_score, balanced_accuracy_score,\n",
        "    confusion_matrix, matthews_corrcoef, roc_auc_score, accuracy_score\n",
        ")\n",
        "import numpy as np\n",
        "from tabulate import tabulate\n",
        "from sklearn.naive_bayes import GaussianNB\n",
        "from sklearn.linear_model import LogisticRegression\n",
        "from sklearn.svm import SVC\n",
        "from sklearn.tree import DecisionTreeClassifier\n",
        "from sklearn.ensemble import RandomForestClassifier\n",
        "\n",
        "import tensorflow as tf\n",
        "import random\n",
        "from tensorflow.keras.models import Sequential\n",
        "from tensorflow.keras.layers import Dense\n",
        "from tensorflow.keras.optimizers import Adam\n",
        "from tensorflow.keras.initializers import HeNormal"
      ]
    },
    {
      "cell_type": "code",
      "execution_count": 20,
      "metadata": {
        "id": "A3TCCuhy-T3q"
      },
      "outputs": [
        {
          "data": {
            "text/html": [
              "<div>\n",
              "<style scoped>\n",
              "    .dataframe tbody tr th:only-of-type {\n",
              "        vertical-align: middle;\n",
              "    }\n",
              "\n",
              "    .dataframe tbody tr th {\n",
              "        vertical-align: top;\n",
              "    }\n",
              "\n",
              "    .dataframe thead th {\n",
              "        text-align: right;\n",
              "    }\n",
              "</style>\n",
              "<table border=\"1\" class=\"dataframe\">\n",
              "  <thead>\n",
              "    <tr style=\"text-align: right;\">\n",
              "      <th></th>\n",
              "      <th>UDI</th>\n",
              "      <th>Product ID</th>\n",
              "      <th>Type</th>\n",
              "      <th>Air temperature [K]</th>\n",
              "      <th>Process temperature [K]</th>\n",
              "      <th>Rotational speed [rpm]</th>\n",
              "      <th>Torque [Nm]</th>\n",
              "      <th>Tool wear [min]</th>\n",
              "      <th>Target</th>\n",
              "      <th>Failure Type</th>\n",
              "    </tr>\n",
              "  </thead>\n",
              "  <tbody>\n",
              "    <tr>\n",
              "      <th>0</th>\n",
              "      <td>1</td>\n",
              "      <td>M14860</td>\n",
              "      <td>M</td>\n",
              "      <td>298.1</td>\n",
              "      <td>308.6</td>\n",
              "      <td>1551</td>\n",
              "      <td>42.8</td>\n",
              "      <td>0</td>\n",
              "      <td>0</td>\n",
              "      <td>No Failure</td>\n",
              "    </tr>\n",
              "    <tr>\n",
              "      <th>1</th>\n",
              "      <td>2</td>\n",
              "      <td>L47181</td>\n",
              "      <td>L</td>\n",
              "      <td>298.2</td>\n",
              "      <td>308.7</td>\n",
              "      <td>1408</td>\n",
              "      <td>46.3</td>\n",
              "      <td>3</td>\n",
              "      <td>0</td>\n",
              "      <td>No Failure</td>\n",
              "    </tr>\n",
              "    <tr>\n",
              "      <th>2</th>\n",
              "      <td>3</td>\n",
              "      <td>L47182</td>\n",
              "      <td>L</td>\n",
              "      <td>298.1</td>\n",
              "      <td>308.5</td>\n",
              "      <td>1498</td>\n",
              "      <td>49.4</td>\n",
              "      <td>5</td>\n",
              "      <td>0</td>\n",
              "      <td>No Failure</td>\n",
              "    </tr>\n",
              "    <tr>\n",
              "      <th>3</th>\n",
              "      <td>4</td>\n",
              "      <td>L47183</td>\n",
              "      <td>L</td>\n",
              "      <td>298.2</td>\n",
              "      <td>308.6</td>\n",
              "      <td>1433</td>\n",
              "      <td>39.5</td>\n",
              "      <td>7</td>\n",
              "      <td>0</td>\n",
              "      <td>No Failure</td>\n",
              "    </tr>\n",
              "    <tr>\n",
              "      <th>4</th>\n",
              "      <td>5</td>\n",
              "      <td>L47184</td>\n",
              "      <td>L</td>\n",
              "      <td>298.2</td>\n",
              "      <td>308.7</td>\n",
              "      <td>1408</td>\n",
              "      <td>40.0</td>\n",
              "      <td>9</td>\n",
              "      <td>0</td>\n",
              "      <td>No Failure</td>\n",
              "    </tr>\n",
              "  </tbody>\n",
              "</table>\n",
              "</div>"
            ],
            "text/plain": [
              "   UDI Product ID Type  Air temperature [K]  Process temperature [K]  \\\n",
              "0    1     M14860    M                298.1                    308.6   \n",
              "1    2     L47181    L                298.2                    308.7   \n",
              "2    3     L47182    L                298.1                    308.5   \n",
              "3    4     L47183    L                298.2                    308.6   \n",
              "4    5     L47184    L                298.2                    308.7   \n",
              "\n",
              "   Rotational speed [rpm]  Torque [Nm]  Tool wear [min]  Target Failure Type  \n",
              "0                    1551         42.8                0       0   No Failure  \n",
              "1                    1408         46.3                3       0   No Failure  \n",
              "2                    1498         49.4                5       0   No Failure  \n",
              "3                    1433         39.5                7       0   No Failure  \n",
              "4                    1408         40.0                9       0   No Failure  "
            ]
          },
          "execution_count": 20,
          "metadata": {},
          "output_type": "execute_result"
        }
      ],
      "source": [
        "semilla = 7\n",
        "np.random.seed(semilla)\n",
        "tf.random.set_seed(semilla)\n",
        "random.seed(semilla)\n",
        "df = pd.read_csv('predictive_maintenance.csv')\n",
        "df.head()"
      ]
    },
    {
      "cell_type": "code",
      "execution_count": 3,
      "metadata": {},
      "outputs": [
        {
          "data": {
            "text/plain": [
              "(10000, 10)"
            ]
          },
          "execution_count": 3,
          "metadata": {},
          "output_type": "execute_result"
        }
      ],
      "source": [
        "df.shape"
      ]
    },
    {
      "cell_type": "code",
      "execution_count": 4,
      "metadata": {},
      "outputs": [
        {
          "data": {
            "text/plain": [
              "Failure Type\n",
              "No Failure                  9652\n",
              "Heat Dissipation Failure     112\n",
              "Power Failure                 95\n",
              "Overstrain Failure            78\n",
              "Tool Wear Failure             45\n",
              "Random Failures               18\n",
              "Name: count, dtype: int64"
            ]
          },
          "execution_count": 4,
          "metadata": {},
          "output_type": "execute_result"
        }
      ],
      "source": [
        "df['Failure Type'].value_counts()"
      ]
    },
    {
      "cell_type": "code",
      "execution_count": 5,
      "metadata": {
        "id": "pRs3MKiTGRE1"
      },
      "outputs": [
        {
          "data": {
            "text/plain": [
              "Type\n",
              "1    6000\n",
              "2    2997\n",
              "0    1003\n",
              "Name: count, dtype: int64"
            ]
          },
          "execution_count": 5,
          "metadata": {},
          "output_type": "execute_result"
        }
      ],
      "source": [
        "LE = LabelEncoder()\n",
        "df['Type'] = LE.fit_transform(df['Type'])\n",
        "df['Type'].value_counts()"
      ]
    },
    {
      "cell_type": "code",
      "execution_count": 6,
      "metadata": {},
      "outputs": [
        {
          "data": {
            "text/plain": [
              "Failure Type\n",
              "1    9652\n",
              "0     112\n",
              "3      95\n",
              "2      78\n",
              "5      45\n",
              "4      18\n",
              "Name: count, dtype: int64"
            ]
          },
          "execution_count": 6,
          "metadata": {},
          "output_type": "execute_result"
        }
      ],
      "source": [
        "LE = LabelEncoder()\n",
        "df['Failure Type'] = LE.fit_transform(df['Failure Type'])\n",
        "df['Failure Type'].value_counts()"
      ]
    },
    {
      "cell_type": "code",
      "execution_count": 7,
      "metadata": {
        "id": "r8kRNfXJIKj6"
      },
      "outputs": [],
      "source": [
        "# Separar características de la etiqueta\n",
        "\n",
        "X = df.drop(columns = ['UDI', 'Product ID', 'Failure Type', 'Target'])\n",
        "Y = df['Failure Type']"
      ]
    },
    {
      "cell_type": "code",
      "execution_count": 11,
      "metadata": {},
      "outputs": [
        {
          "data": {
            "text/html": [
              "<div>\n",
              "<style scoped>\n",
              "    .dataframe tbody tr th:only-of-type {\n",
              "        vertical-align: middle;\n",
              "    }\n",
              "\n",
              "    .dataframe tbody tr th {\n",
              "        vertical-align: top;\n",
              "    }\n",
              "\n",
              "    .dataframe thead th {\n",
              "        text-align: right;\n",
              "    }\n",
              "</style>\n",
              "<table border=\"1\" class=\"dataframe\">\n",
              "  <thead>\n",
              "    <tr style=\"text-align: right;\">\n",
              "      <th></th>\n",
              "      <th>Type</th>\n",
              "      <th>Air temperature [K]</th>\n",
              "      <th>Process temperature [K]</th>\n",
              "      <th>Rotational speed [rpm]</th>\n",
              "      <th>Torque [Nm]</th>\n",
              "      <th>Tool wear [min]</th>\n",
              "    </tr>\n",
              "  </thead>\n",
              "  <tbody>\n",
              "    <tr>\n",
              "      <th>0</th>\n",
              "      <td>2</td>\n",
              "      <td>298.1</td>\n",
              "      <td>308.6</td>\n",
              "      <td>1551</td>\n",
              "      <td>42.8</td>\n",
              "      <td>0</td>\n",
              "    </tr>\n",
              "    <tr>\n",
              "      <th>1</th>\n",
              "      <td>1</td>\n",
              "      <td>298.2</td>\n",
              "      <td>308.7</td>\n",
              "      <td>1408</td>\n",
              "      <td>46.3</td>\n",
              "      <td>3</td>\n",
              "    </tr>\n",
              "    <tr>\n",
              "      <th>2</th>\n",
              "      <td>1</td>\n",
              "      <td>298.1</td>\n",
              "      <td>308.5</td>\n",
              "      <td>1498</td>\n",
              "      <td>49.4</td>\n",
              "      <td>5</td>\n",
              "    </tr>\n",
              "    <tr>\n",
              "      <th>3</th>\n",
              "      <td>1</td>\n",
              "      <td>298.2</td>\n",
              "      <td>308.6</td>\n",
              "      <td>1433</td>\n",
              "      <td>39.5</td>\n",
              "      <td>7</td>\n",
              "    </tr>\n",
              "    <tr>\n",
              "      <th>4</th>\n",
              "      <td>1</td>\n",
              "      <td>298.2</td>\n",
              "      <td>308.7</td>\n",
              "      <td>1408</td>\n",
              "      <td>40.0</td>\n",
              "      <td>9</td>\n",
              "    </tr>\n",
              "  </tbody>\n",
              "</table>\n",
              "</div>"
            ],
            "text/plain": [
              "   Type  Air temperature [K]  Process temperature [K]  Rotational speed [rpm]  \\\n",
              "0     2                298.1                    308.6                    1551   \n",
              "1     1                298.2                    308.7                    1408   \n",
              "2     1                298.1                    308.5                    1498   \n",
              "3     1                298.2                    308.6                    1433   \n",
              "4     1                298.2                    308.7                    1408   \n",
              "\n",
              "   Torque [Nm]  Tool wear [min]  \n",
              "0         42.8                0  \n",
              "1         46.3                3  \n",
              "2         49.4                5  \n",
              "3         39.5                7  \n",
              "4         40.0                9  "
            ]
          },
          "execution_count": 11,
          "metadata": {},
          "output_type": "execute_result"
        }
      ],
      "source": [
        "X.head()"
      ]
    },
    {
      "cell_type": "code",
      "execution_count": 8,
      "metadata": {},
      "outputs": [
        {
          "data": {
            "text/plain": [
              "array([ 86.18,   1.  , 123.74, 101.6 , 536.22, 214.49])"
            ]
          },
          "execution_count": 8,
          "metadata": {},
          "output_type": "execute_result"
        }
      ],
      "source": [
        "# IR por clase\n",
        "conteo_clase = np.bincount(Y)\n",
        "mayor = conteo_clase.max()\n",
        "ir_por_clases= np.round(mayor / conteo_clase, 2)\n",
        "\n",
        "ir_por_clases"
      ]
    },
    {
      "cell_type": "markdown",
      "metadata": {
        "id": "fSjhMkCcIkWQ"
      },
      "source": [
        "## Método de validación\n",
        "\n",
        "Validación cruzada estratificada\n",
        "\n",
        "* Aplicación de smote para cada Fold"
      ]
    },
    {
      "cell_type": "code",
      "execution_count": 23,
      "metadata": {},
      "outputs": [],
      "source": [
        "def macro_medidas(y_true, y_pred, y_prob):\n",
        "\n",
        "  # Cálculo de medidas macro\n",
        "  labels = np.unique(y_true)\n",
        "  cm = confusion_matrix(y_true, y_pred, labels=labels)\n",
        "\n",
        "  recall_por_clase = []\n",
        "  precision_por_clase = []\n",
        "  f1_por_clase = []\n",
        "  specificity_por_clase = []\n",
        "\n",
        "  for i, label in enumerate(labels):\n",
        "      TP = cm[i, i]\n",
        "      FN = cm[i, :].sum() - TP\n",
        "      FP = cm[:, i].sum() - TP\n",
        "      TN = cm.sum() - (TP + FN + FP)\n",
        "      \n",
        "      recall = TP / (TP + FN) if (TP + FN) > 0 else 0\n",
        "      precision = TP / (TP + FP) if (TP + FP) > 0 else 0 \n",
        "      f1 = (2 * precision * recall) / (precision + recall) if (precision + recall) > 0 else 0\n",
        "      specificity = TN / (TN + FP) if (TN + FP) > 0 else 0\n",
        "\n",
        "      recall_por_clase.append(recall)\n",
        "      precision_por_clase.append(precision)\n",
        "      f1_por_clase.append(f1)\n",
        "      specificity_por_clase.append(specificity)\n",
        "\n",
        "  # Aplicables a ponderacion    \n",
        "  macro_recall = np.mean(recall_por_clase)\n",
        "  macro_precision = np.mean(precision_por_clase)\n",
        "  macro_f1 = np.mean(f1_por_clase)\n",
        "  macro_specificity = np.mean(specificity_por_clase)\n",
        "\n",
        "  # Medidas que son generales\n",
        "  accuracy = accuracy_score(y_true, y_pred)\n",
        "  error_rate = 1 - accuracy\n",
        "  b_acc = balanced_accuracy_score(y_true, y_pred)\n",
        "  mcc = matthews_corrcoef(y_true, y_pred)\n",
        "\n",
        "  # ROC-AUC\n",
        "  classes = np.unique(y_true)\n",
        "  y_true_bin = label_binarize(y_true, classes = classes)\n",
        "  roc_auc_macro = roc_auc_score(y_true_bin, y_prob, average = 'macro', multi_class = 'ovr')\n",
        "\n",
        "  metrics_table = [\n",
        "      ['Accuracy', accuracy],\n",
        "      ['Error Rate', error_rate],\n",
        "      ['Recall (macro)', macro_recall],\n",
        "      ['Specificity (macro)', macro_specificity],\n",
        "      ['Balanced Accuracy', b_acc],\n",
        "      ['Precision (macro)', macro_precision],\n",
        "      ['F1 Score (macro)', macro_f1],\n",
        "      ['MCC', mcc],\n",
        "      ['ROC-AUC (macro)', roc_auc_macro]\n",
        "  ]\n",
        "\n",
        "  print(tabulate(metrics_table, ['Medidas', 'Valor'], floatfmt = '.4f', tablefmt = 'plain'))"
      ]
    },
    {
      "cell_type": "code",
      "execution_count": 13,
      "metadata": {},
      "outputs": [],
      "source": [
        "def macro_medidas_2(y_true, y_pred, y_prob):\n",
        "\n",
        "  # Cálculo de medidas macro actualizando balanced accuracy\n",
        "  labels = np.unique(y_true)\n",
        "  cm = confusion_matrix(y_true, y_pred, labels=labels)\n",
        "\n",
        "  recall_por_clase = []\n",
        "  precision_por_clase = []\n",
        "  f1_por_clase = []\n",
        "  specificity_por_clase = []\n",
        "\n",
        "  for i, label in enumerate(labels):\n",
        "      TP = cm[i, i]\n",
        "      FN = cm[i, :].sum() - TP\n",
        "      FP = cm[:, i].sum() - TP\n",
        "      TN = cm.sum() - (TP + FN + FP)\n",
        "      \n",
        "      recall = TP / (TP + FN) if (TP + FN) > 0 else 0\n",
        "      precision = TP / (TP + FP) if (TP + FP) > 0 else 0 \n",
        "      f1 = (2 * precision * recall) / (precision + recall) if (precision + recall) > 0 else 0\n",
        "      specificity = TN / (TN + FP) if (TN + FP) > 0 else 0\n",
        "\n",
        "      recall_por_clase.append(recall)\n",
        "      precision_por_clase.append(precision)\n",
        "      f1_por_clase.append(f1)\n",
        "      specificity_por_clase.append(specificity)\n",
        "\n",
        "  # Aplicables a ponderacion    \n",
        "  macro_recall = np.mean(recall_por_clase)\n",
        "  macro_precision = np.mean(precision_por_clase)\n",
        "  macro_f1 = np.mean(f1_por_clase)\n",
        "  macro_specificity = np.mean(specificity_por_clase)\n",
        "  macro_b_acc = np.mean([macro_recall, macro_specificity])\n",
        "\n",
        "  # Medidas que son generales\n",
        "  accuracy = accuracy_score(y_true, y_pred)\n",
        "  error_rate = 1 - accuracy\n",
        "  mcc = matthews_corrcoef(y_true, y_pred)\n",
        "\n",
        "  # ROC-AUC\n",
        "  classes = np.unique(y_true)\n",
        "  y_true_bin = label_binarize(y_true, classes = classes)\n",
        "  roc_auc_macro = roc_auc_score(y_true_bin, y_prob, average = 'macro', multi_class = 'ovr')\n",
        "\n",
        "  metrics_table = [\n",
        "      ['Accuracy', accuracy],\n",
        "      ['Error Rate', error_rate],\n",
        "      ['Recall (macro)', macro_recall],\n",
        "      ['Specificity (macro)', macro_specificity],\n",
        "      ['Balanced Accuracy', macro_b_acc],\n",
        "      ['Precision (macro)', macro_precision],\n",
        "      ['F1 Score (macro)', macro_f1],\n",
        "      ['MCC', mcc],\n",
        "      ['ROC-AUC (macro)', roc_auc_macro]\n",
        "  ]\n",
        "\n",
        "  print(tabulate(metrics_table, ['Medidas', 'Valor'], floatfmt = '.4f', tablefmt = 'plain'))"
      ]
    },
    {
      "cell_type": "code",
      "execution_count": 15,
      "metadata": {},
      "outputs": [],
      "source": [
        "def weighted_medidas(y_true, y_pred, y_prob):\n",
        "\n",
        "    labels = np.unique(y_true)\n",
        "    cm = confusion_matrix(y_true, y_pred, labels=labels)\n",
        "    conteo_clase = np.bincount(y_true)\n",
        "    total = conteo_clase.sum()\n",
        "    proporciones = conteo_clase/total\n",
        "\n",
        "\n",
        "    recall_por_clase = []\n",
        "    precision_por_clase = []\n",
        "    f1_por_clase = []\n",
        "    specificity_por_clase = []\n",
        "\n",
        "    for i, label in enumerate(labels):\n",
        "        TP = cm[i, i]\n",
        "        FN = cm[i, :].sum() - TP\n",
        "        FP = cm[:, i].sum() - TP\n",
        "        TN = cm.sum() - (TP + FN + FP)\n",
        "        \n",
        "        recall = TP / (TP + FN) if (TP + FN) > 0 else 0\n",
        "        precision = TP / (TP + FP) if (TP + FP) > 0 else 0 \n",
        "        f1 = (2 * precision * recall) / (precision + recall) if (precision + recall) > 0 else 0\n",
        "        specificity = TN / (TN + FP) if (TN + FP) > 0 else 0\n",
        "\n",
        "        recall_por_clase.append(recall)\n",
        "        precision_por_clase.append(precision)\n",
        "        f1_por_clase.append(f1)\n",
        "        specificity_por_clase.append(specificity)\n",
        "\n",
        "    # Aplicables a ponderacion    \n",
        "    weighted_recall = np.dot(recall_por_clase, proporciones)\n",
        "    weighted_precision = np.dot(precision_por_clase, proporciones)\n",
        "    weighted_f1 = np.dot(f1_por_clase, proporciones)\n",
        "    weighted_specificity = np.dot(specificity_por_clase, proporciones)\n",
        "\n",
        "    # Medidas generalizadas\n",
        "    accuracy = accuracy_score(y_true, y_pred)\n",
        "    error_rate = 1 - accuracy\n",
        "    b_acc = balanced_accuracy_score(y_true, y_pred)\n",
        "    mcc = matthews_corrcoef(y_true, y_pred)\n",
        "\n",
        "    y_true_bin = label_binarize(y_true, classes=labels)\n",
        "    roc_auc = roc_auc_score(y_true_bin, y_prob, average='macro', multi_class='ovr')\n",
        "\n",
        "    metrics_table = [\n",
        "      ['Accuracy', accuracy],\n",
        "      ['Error Rate', error_rate],\n",
        "      ['Recall (weighted)', weighted_recall],\n",
        "      ['Specificity (weighted)', weighted_specificity],\n",
        "      ['Balanced Accuracy', b_acc],\n",
        "      ['Precision (weighted)', weighted_precision],\n",
        "      ['F1 Score (weighted)', weighted_f1],\n",
        "      ['MCC', mcc],\n",
        "      ['ROC-AUC', roc_auc]\n",
        "    ]\n",
        "\n",
        "    print(tabulate(metrics_table, ['Medidas', 'Valor'], floatfmt='.4f', tablefmt='plain'))"
      ]
    },
    {
      "cell_type": "code",
      "execution_count": 46,
      "metadata": {},
      "outputs": [],
      "source": [
        "def weighted_medidas_2(y_true, y_pred, y_prob):\n",
        "\n",
        "    labels = np.unique(y_true)\n",
        "    cm = confusion_matrix(y_true, y_pred, labels=labels)\n",
        "    conteo_clase = np.bincount(y_true)\n",
        "    total = conteo_clase.sum()\n",
        "    proporciones = conteo_clase/total\n",
        "\n",
        "\n",
        "    recall_por_clase = []\n",
        "    precision_por_clase = []\n",
        "    f1_por_clase = []\n",
        "    specificity_por_clase = []\n",
        "\n",
        "    for i, label in enumerate(labels):\n",
        "        TP = cm[i, i]\n",
        "        FN = cm[i, :].sum() - TP\n",
        "        FP = cm[:, i].sum() - TP\n",
        "        TN = cm.sum() - (TP + FN + FP)\n",
        "        \n",
        "        recall = TP / (TP + FN) if (TP + FN) > 0 else 0\n",
        "        precision = TP / (TP + FP) if (TP + FP) > 0 else 0 \n",
        "        f1 = (2 * precision * recall) / (precision + recall) if (precision + recall) > 0 else 0\n",
        "        specificity = TN / (TN + FP) if (TN + FP) > 0 else 0\n",
        "\n",
        "        recall_por_clase.append(recall)\n",
        "        precision_por_clase.append(precision)\n",
        "        f1_por_clase.append(f1)\n",
        "        specificity_por_clase.append(specificity)\n",
        "\n",
        "    # Aplicables a ponderacion    \n",
        "    weighted_recall = np.dot(recall_por_clase, proporciones)\n",
        "    weighted_precision = np.dot(precision_por_clase, proporciones)\n",
        "    weighted_f1 = np.dot(f1_por_clase, proporciones)\n",
        "    weighted_specificity = np.dot(specificity_por_clase, proporciones)\n",
        "    weighted_b_acc = np.mean([weighted_recall, weighted_specificity])\n",
        "\n",
        "    # Medidas generalizadas\n",
        "    accuracy = accuracy_score(y_true, y_pred)\n",
        "    error_rate = 1 - accuracy\n",
        "    mcc = matthews_corrcoef(y_true, y_pred)\n",
        "\n",
        "    y_true_bin = label_binarize(y_true, classes=labels)\n",
        "    roc_auc = roc_auc_score(y_true_bin, y_prob, average='macro', multi_class='ovr')\n",
        "\n",
        "    metrics_table = [\n",
        "      ['Accuracy', accuracy],\n",
        "      ['Error Rate', error_rate],\n",
        "      ['Recall (weighted)', weighted_recall],\n",
        "      ['Specificity (weighted)', weighted_specificity],\n",
        "      ['Balanced Accuracy', weighted_b_acc],\n",
        "      ['Precision (weighted)', weighted_precision],\n",
        "      ['F1 Score (weighted)', weighted_f1],\n",
        "      ['MCC', mcc],\n",
        "      ['ROC-AUC', roc_auc]\n",
        "    ]\n",
        "\n",
        "    print(tabulate(metrics_table, ['Medidas', 'Valor'], floatfmt='.4f', tablefmt='plain'))"
      ]
    },
    {
      "cell_type": "code",
      "execution_count": null,
      "metadata": {},
      "outputs": [],
      "source": [
        "def macro_medidas_nn(y_true, y_pred, y_prob):\n",
        "    \n",
        "    accuracy = accuracy_score(y_true, y_pred)\n",
        "    error_rate = 1 - accuracy\n",
        "    mcc = matthews_corrcoef(y_true, y_pred)\n",
        "    \n",
        "    recall = recall_score(y_true, y_pred, average='macro')\n",
        "    b_acc = balanced_accuracy_score(y_true, y_pred)\n",
        "    precision = precision_score(y_true, y_pred, average='macro')\n",
        "    f1 = f1_score(y_true, y_pred, average='macro')\n",
        "    \n",
        "    \n",
        "    # Cálculo manual de specificity por clase\n",
        "    cm = confusion_matrix(y_true, y_pred, labels=np.unique(y_true))\n",
        "    n_classes = cm.shape[0]\n",
        "    \n",
        "    specificities = []\n",
        "    recalls = []\n",
        "    b_accs = []\n",
        "    precisions = []\n",
        "    f1s = []\n",
        "\n",
        "\n",
        "    for i in range(n_classes):\n",
        "        TP = cm[i, i]\n",
        "        FN = cm[i, :].sum() - TP\n",
        "        FP = cm[:, i].sum() - TP\n",
        "        TN = cm.sum() - (TP + FN + FP)\n",
        "\n",
        "        specificity = TN / (TN + FP) if (TN + FP) > 0 else 0\n",
        "\n",
        "        specificities.append(specificity)\n",
        "\n",
        "    specificity_macro = np.mean(specificities)\n",
        "\n",
        "    y_true_bin = label_binarize(y_true, classes=np.unique(y_true))\n",
        "    roc_auc_macro = roc_auc_score(y_true_bin, y_prob, average='macro', multi_class='ovr')\n",
        "\n",
        "    metrics_table = [\n",
        "        ['Accuracy', accuracy],\n",
        "        ['Error Rate', error_rate],\n",
        "        ['Recall (macro)', recall],\n",
        "        ['Specificity (macro)', specificity_macro],\n",
        "        ['Balanced Accuracy', b_acc],\n",
        "        ['Precision (macro)', precision],\n",
        "        ['F1 Score (macro)', f1],\n",
        "        ['MCC', mcc],\n",
        "        ['ROC-AUC (macro)', roc_auc_macro]\n",
        "    ]\n",
        "    print(tabulate(metrics_table, ['Medidas', 'Valor'], floatfmt='.4f', tablefmt='plain'))"
      ]
    },
    {
      "cell_type": "code",
      "execution_count": 15,
      "metadata": {},
      "outputs": [],
      "source": [
        "def weighted_medidas_nn(y_true, y_pred, y_prob):\n",
        "    labels = np.unique(y_true)\n",
        "    cm = confusion_matrix(y_true, y_pred, labels=labels)\n",
        "    conteo_clase = np.bincount(y_true)\n",
        "    total = conteo_clase.sum()\n",
        "    proporciones = conteo_clase / total\n",
        "\n",
        "    recall_por_clase = []\n",
        "    precision_por_clase = []\n",
        "    f1_por_clase = []\n",
        "    specificity_por_clase = []\n",
        "\n",
        "    for i, label in enumerate(labels):\n",
        "        TP = cm[i, i]\n",
        "        FN = cm[i, :].sum() - TP\n",
        "        FP = cm[:, i].sum() - TP\n",
        "        TN = cm.sum() - (TP + FN + FP)\n",
        "\n",
        "        recall = TP / (TP + FN) if (TP + FN) > 0 else 0\n",
        "        precision = TP / (TP + FP) if (TP + FP) > 0 else 0\n",
        "        f1 = (2 * precision * recall) / (precision + recall) if (precision + recall) > 0 else 0\n",
        "        specificity = TN / (TN + FP) if (TN + FP) > 0 else 0\n",
        "\n",
        "        recall_por_clase.append(recall)\n",
        "        precision_por_clase.append(precision)\n",
        "        f1_por_clase.append(f1)\n",
        "        specificity_por_clase.append(specificity)\n",
        "\n",
        "    weighted_recall = np.dot(recall_por_clase, proporciones)\n",
        "    weighted_precision = np.dot(precision_por_clase, proporciones)\n",
        "    weighted_f1 = np.dot(f1_por_clase, proporciones)\n",
        "    weighted_specificity = np.dot(specificity_por_clase, proporciones)\n",
        "\n",
        "    accuracy = accuracy_score(y_true, y_pred)\n",
        "    error_rate = 1 - accuracy\n",
        "    b_acc = balanced_accuracy_score(y_true, y_pred)\n",
        "    mcc = matthews_corrcoef(y_true, y_pred)\n",
        "\n",
        "    y_true_bin = label_binarize(y_true, classes=labels)\n",
        "    roc_auc_macro = roc_auc_score(y_true_bin, y_prob, average='macro', multi_class='ovr')\n",
        "\n",
        "    metrics_table = [\n",
        "        ['Accuracy', accuracy],\n",
        "        ['Error Rate', error_rate],\n",
        "        ['Recall (weighted)', weighted_recall],\n",
        "        ['Specificity (weighted)', weighted_specificity],\n",
        "        ['Balanced Accuracy', b_acc],\n",
        "        ['Precision (weighted)', weighted_precision],\n",
        "        ['F1 Score (weighted)', weighted_f1],\n",
        "        ['MCC', mcc],\n",
        "        ['ROC-AUC (macro)', roc_auc_macro]\n",
        "    ]\n",
        "    print(tabulate(metrics_table, ['Medidas', 'Valor'], floatfmt='.4f', tablefmt='plain'))"
      ]
    },
    {
      "cell_type": "markdown",
      "metadata": {
        "id": "U2YvnMNCXCM1"
      },
      "source": [
        "### Algoritmo Euclidiano\n"
      ]
    },
    {
      "cell_type": "code",
      "execution_count": 47,
      "metadata": {
        "id": "gH9HkaBGXIqd"
      },
      "outputs": [
        {
          "name": "stdout",
          "output_type": "stream",
          "text": [
            "Medidas                Valor\n",
            "Accuracy              0.8315\n",
            "Error Rate            0.1685\n",
            "Recall (macro)        0.4996\n",
            "Specificity (macro)   0.9131\n",
            "Balanced Accuracy     0.7063\n",
            "Precision (macro)     0.3389\n",
            "F1 Score (macro)      0.3726\n",
            "MCC                   0.2252\n",
            "ROC-AUC (macro)       0.7063\n",
            "*******************************\n",
            "Medidas                   Valor\n",
            "Accuracy                 0.8315\n",
            "Error Rate               0.1685\n",
            "Recall (weighted)        0.8315\n",
            "Specificity (weighted)   0.6470\n",
            "Balanced Accuracy        0.7392\n",
            "Precision (weighted)     0.9594\n",
            "F1 Score (weighted)      0.8884\n",
            "MCC                      0.2252\n",
            "ROC-AUC                  0.7063\n"
          ]
        }
      ],
      "source": [
        "kf = StratifiedKFold(n_splits = 5, shuffle = True, random_state = semilla)\n",
        "y_true_total = []\n",
        "y_pred_total = []\n",
        "y_proba_total = []\n",
        "\n",
        "for train_idx, test_idx in kf.split(X, Y):\n",
        "  x_train, x_test = X.iloc[train_idx], X.iloc[test_idx]\n",
        "  y_train, y_test = Y.iloc[train_idx], Y.iloc[test_idx]\n",
        "\n",
        "  smote = SMOTE(random_state = semilla)\n",
        "  x_train, y_train = smote.fit_resample(x_train, y_train)\n",
        "\n",
        "  model = KNeighborsClassifier(n_neighbors = 1, metric = 'euclidean')\n",
        "  model.fit(x_train, y_train)\n",
        "  y_pred = model.predict(x_test)\n",
        "  y_prob = model.predict_proba(x_test)\n",
        "\n",
        "  y_true_total.extend(y_test)\n",
        "  y_pred_total.extend(y_pred)\n",
        "  y_proba_total.extend(y_prob)\n",
        "\n",
        "y_proba_total = np.array(y_proba_total)\n",
        "\n",
        "macro_medidas_2(y_true_total, y_pred_total, y_proba_total)\n",
        "print('*'*31)\n",
        "weighted_medidas_2(y_true_total, y_pred_total, y_proba_total)"
      ]
    },
    {
      "cell_type": "markdown",
      "metadata": {},
      "source": [
        "### Euclidiano 2"
      ]
    },
    {
      "cell_type": "code",
      "execution_count": 48,
      "metadata": {},
      "outputs": [
        {
          "name": "stdout",
          "output_type": "stream",
          "text": [
            "Medidas                Valor\n",
            "Accuracy              0.8315\n",
            "Error Rate            0.1685\n",
            "Recall (macro)        0.4996\n",
            "Specificity (macro)   0.9131\n",
            "Balanced Accuracy     0.7063\n",
            "Precision (macro)     0.3389\n",
            "F1 Score (macro)      0.3726\n",
            "MCC                   0.2252\n",
            "ROC-AUC (macro)       0.7063\n",
            "*******************************\n",
            "Medidas                   Valor\n",
            "Accuracy                 0.8315\n",
            "Error Rate               0.1685\n",
            "Recall (weighted)        0.8315\n",
            "Specificity (weighted)   0.6470\n",
            "Balanced Accuracy        0.7392\n",
            "Precision (weighted)     0.9594\n",
            "F1 Score (weighted)      0.8884\n",
            "MCC                      0.2252\n",
            "ROC-AUC                  0.7063\n"
          ]
        }
      ],
      "source": [
        "import numpy as np\n",
        "\n",
        "def euclidean_predictor_multiclass(x_train, y_train, x_test):\n",
        "    # Obtener clases únicas\n",
        "    clases = np.unique(y_train)\n",
        "    \n",
        "    # Calcular centroides para cada clase\n",
        "    centroides = {\n",
        "        clase: x_train[y_train == clase].mean().values\n",
        "        for clase in clases\n",
        "    }\n",
        "\n",
        "    # Clasificar en base a distancia mínima a los centroides\n",
        "    y_pred = []\n",
        "    for _, row in x_test.iterrows():\n",
        "        distancias = {\n",
        "            clase: np.linalg.norm(row.values - centroide)\n",
        "            for clase, centroide in centroides.items()\n",
        "        }\n",
        "        clase_predicha = min(distancias, key=distancias.get)\n",
        "        y_pred.append(clase_predicha)\n",
        "\n",
        "    return np.array(y_pred)\n",
        "\n",
        "macro_medidas_2(y_true_total, y_pred_total, y_proba_total)\n",
        "print('*'*31)\n",
        "weighted_medidas_2(y_true_total, y_pred_total, y_proba_total)"
      ]
    },
    {
      "cell_type": "markdown",
      "metadata": {},
      "source": [
        "### Algoritmo 1NN"
      ]
    },
    {
      "cell_type": "code",
      "execution_count": 49,
      "metadata": {},
      "outputs": [
        {
          "name": "stdout",
          "output_type": "stream",
          "text": [
            "Medidas                Valor\n",
            "Accuracy              0.8272\n",
            "Error Rate            0.1728\n",
            "Recall (macro)        0.5190\n",
            "Specificity (macro)   0.9124\n",
            "Balanced Accuracy     0.7157\n",
            "Precision (macro)     0.3381\n",
            "F1 Score (macro)      0.3728\n",
            "MCC                   0.2240\n",
            "ROC-AUC (macro)       0.7157\n",
            "*******************************\n",
            "Medidas                   Valor\n",
            "Accuracy                 0.8272\n",
            "Error Rate               0.1728\n",
            "Recall (weighted)        0.8272\n",
            "Specificity (weighted)   0.6470\n",
            "Balanced Accuracy        0.7371\n",
            "Precision (weighted)     0.9592\n",
            "F1 Score (weighted)      0.8856\n",
            "MCC                      0.2240\n",
            "ROC-AUC                  0.7157\n"
          ]
        }
      ],
      "source": [
        "kf = StratifiedKFold(n_splits = 5, shuffle = True, random_state = semilla)\n",
        "y_true_total = []\n",
        "y_pred_total = []\n",
        "y_proba_total = []\n",
        "\n",
        "for train_idx, test_idx in kf.split(X, Y):\n",
        "  x_train, x_test = X.iloc[train_idx], X.iloc[test_idx]\n",
        "  y_train, y_test = Y.iloc[train_idx], Y.iloc[test_idx]\n",
        "\n",
        "  smote = SMOTE(random_state = semilla)\n",
        "  x_train, y_train = smote.fit_resample(x_train, y_train)\n",
        "\n",
        "  model = KNeighborsClassifier(n_neighbors = 1, metric = 'chebyshev')\n",
        "  model.fit(x_train, y_train)\n",
        "  y_pred = model.predict(x_test)\n",
        "  y_prob = model.predict_proba(x_test)\n",
        "\n",
        "  y_true_total.extend(y_test)\n",
        "  y_pred_total.extend(y_pred)\n",
        "  y_proba_total.extend(y_prob)\n",
        "\n",
        "y_proba_total = np.array(y_proba_total)\n",
        "\n",
        "macro_medidas_2(y_true_total, y_pred_total, y_proba_total)\n",
        "print('*'*31)\n",
        "weighted_medidas_2(y_true_total, y_pred_total, y_proba_total)"
      ]
    },
    {
      "cell_type": "markdown",
      "metadata": {},
      "source": [
        "### Algoritmo 3NN"
      ]
    },
    {
      "cell_type": "code",
      "execution_count": 50,
      "metadata": {},
      "outputs": [
        {
          "name": "stdout",
          "output_type": "stream",
          "text": [
            "Medidas                Valor\n",
            "Accuracy              0.7574\n",
            "Error Rate            0.2426\n",
            "Recall (macro)        0.5640\n",
            "Specificity (macro)   0.9178\n",
            "Balanced Accuracy     0.7409\n",
            "Precision (macro)     0.3221\n",
            "F1 Score (macro)      0.3581\n",
            "MCC                   0.2120\n",
            "ROC-AUC (macro)       0.7560\n",
            "*******************************\n",
            "Medidas                   Valor\n",
            "Accuracy                 0.7574\n",
            "Error Rate               0.2426\n",
            "Recall (weighted)        0.7574\n",
            "Specificity (weighted)   0.7493\n",
            "Balanced Accuracy        0.7533\n",
            "Precision (weighted)     0.9617\n",
            "F1 Score (weighted)      0.8425\n",
            "MCC                      0.2120\n",
            "ROC-AUC                  0.7560\n"
          ]
        }
      ],
      "source": [
        "kf = StratifiedKFold(n_splits = 5, shuffle = True, random_state = semilla)\n",
        "y_true_total = []\n",
        "y_pred_total = []\n",
        "y_proba_total = []\n",
        "\n",
        "for train_idx, test_idx in kf.split(X, Y):\n",
        "  x_train, x_test = X.iloc[train_idx], X.iloc[test_idx]\n",
        "  y_train, y_test = Y.iloc[train_idx], Y.iloc[test_idx]\n",
        "\n",
        "  smote = SMOTE(random_state = semilla)\n",
        "  x_train, y_train = smote.fit_resample(x_train, y_train)\n",
        "\n",
        "  model = KNeighborsClassifier(n_neighbors = 3, metric = 'chebyshev')\n",
        "  model.fit(x_train, y_train)\n",
        "  y_pred = model.predict(x_test)\n",
        "  y_prob = model.predict_proba(x_test)\n",
        "\n",
        "  y_true_total.extend(y_test)\n",
        "  y_pred_total.extend(y_pred)\n",
        "  y_proba_total.extend(y_prob)\n",
        "\n",
        "y_proba_total = np.array(y_proba_total)\n",
        "\n",
        "macro_medidas_2(y_true_total, y_pred_total, y_proba_total)\n",
        "print('*'*31)\n",
        "weighted_medidas_2(y_true_total, y_pred_total, y_proba_total)"
      ]
    },
    {
      "cell_type": "markdown",
      "metadata": {},
      "source": [
        "### Algoritmo 5NN"
      ]
    },
    {
      "cell_type": "code",
      "execution_count": 51,
      "metadata": {},
      "outputs": [
        {
          "name": "stdout",
          "output_type": "stream",
          "text": [
            "Medidas                Valor\n",
            "Accuracy              0.7143\n",
            "Error Rate            0.2857\n",
            "Recall (macro)        0.5551\n",
            "Specificity (macro)   0.9156\n",
            "Balanced Accuracy     0.7354\n",
            "Precision (macro)     0.3095\n",
            "F1 Score (macro)      0.3398\n",
            "MCC                   0.1965\n",
            "ROC-AUC (macro)       0.7702\n",
            "*******************************\n",
            "Medidas                   Valor\n",
            "Accuracy                 0.7143\n",
            "Error Rate               0.2857\n",
            "Recall (weighted)        0.7143\n",
            "Specificity (weighted)   0.7796\n",
            "Balanced Accuracy        0.7469\n",
            "Precision (weighted)     0.9618\n",
            "F1 Score (weighted)      0.8139\n",
            "MCC                      0.1965\n",
            "ROC-AUC                  0.7702\n"
          ]
        }
      ],
      "source": [
        "kf = StratifiedKFold(n_splits = 5, shuffle = True, random_state = semilla)\n",
        "y_true_total = []\n",
        "y_pred_total = []\n",
        "y_proba_total = []\n",
        "\n",
        "for train_idx, test_idx in kf.split(X, Y):\n",
        "  x_train, x_test = X.iloc[train_idx], X.iloc[test_idx]\n",
        "  y_train, y_test = Y.iloc[train_idx], Y.iloc[test_idx]\n",
        "\n",
        "  smote = SMOTE(random_state = semilla)\n",
        "  x_train, y_train = smote.fit_resample(x_train, y_train)\n",
        "\n",
        "  model = KNeighborsClassifier(n_neighbors = 5, metric = 'chebyshev')\n",
        "  model.fit(x_train, y_train)\n",
        "  y_pred = model.predict(x_test)\n",
        "  y_prob = model.predict_proba(x_test)\n",
        "\n",
        "  y_true_total.extend(y_test)\n",
        "  y_pred_total.extend(y_pred)\n",
        "  y_proba_total.extend(y_prob)\n",
        "\n",
        "y_proba_total = np.array(y_proba_total)\n",
        "\n",
        "macro_medidas_2(y_true_total, y_pred_total, y_proba_total)\n",
        "print('*'*31)\n",
        "weighted_medidas_2(y_true_total, y_pred_total, y_proba_total)"
      ]
    },
    {
      "cell_type": "markdown",
      "metadata": {},
      "source": [
        "### Algoritmo 7NN"
      ]
    },
    {
      "cell_type": "code",
      "execution_count": 52,
      "metadata": {},
      "outputs": [
        {
          "name": "stdout",
          "output_type": "stream",
          "text": [
            "Medidas                Valor\n",
            "Accuracy              0.6853\n",
            "Error Rate            0.3147\n",
            "Recall (macro)        0.5733\n",
            "Specificity (macro)   0.9182\n",
            "Balanced Accuracy     0.7457\n",
            "Precision (macro)     0.3011\n",
            "F1 Score (macro)      0.3305\n",
            "MCC                   0.1968\n",
            "ROC-AUC (macro)       0.7822\n",
            "*******************************\n",
            "Medidas                   Valor\n",
            "Accuracy                 0.6853\n",
            "Error Rate               0.3147\n",
            "Recall (weighted)        0.6853\n",
            "Specificity (weighted)   0.8238\n",
            "Balanced Accuracy        0.7546\n",
            "Precision (weighted)     0.9631\n",
            "F1 Score (weighted)      0.7937\n",
            "MCC                      0.1968\n",
            "ROC-AUC                  0.7822\n"
          ]
        }
      ],
      "source": [
        "kf = StratifiedKFold(n_splits = 5, shuffle = True, random_state = semilla)\n",
        "y_true_total = []\n",
        "y_pred_total = []\n",
        "y_proba_total = []\n",
        "\n",
        "for train_idx, test_idx in kf.split(X, Y):\n",
        "  x_train, x_test = X.iloc[train_idx], X.iloc[test_idx]\n",
        "  y_train, y_test = Y.iloc[train_idx], Y.iloc[test_idx]\n",
        "\n",
        "  smote = SMOTE(random_state = semilla)\n",
        "  x_train, y_train = smote.fit_resample(x_train, y_train)\n",
        "\n",
        "  model = KNeighborsClassifier(n_neighbors = 7, metric = 'chebyshev')\n",
        "  model.fit(x_train, y_train)\n",
        "  y_pred = model.predict(x_test)\n",
        "  y_prob = model.predict_proba(x_test)\n",
        "\n",
        "  y_true_total.extend(y_test)\n",
        "  y_pred_total.extend(y_pred)\n",
        "  y_proba_total.extend(y_prob)\n",
        "\n",
        "y_proba_total = np.array(y_proba_total)\n",
        "\n",
        "macro_medidas_2(y_true_total, y_pred_total, y_proba_total)\n",
        "print('*'*31)\n",
        "weighted_medidas_2(y_true_total, y_pred_total, y_proba_total)"
      ]
    },
    {
      "cell_type": "markdown",
      "metadata": {},
      "source": [
        "### Algoritmo IB1"
      ]
    },
    {
      "cell_type": "code",
      "execution_count": 53,
      "metadata": {},
      "outputs": [
        {
          "name": "stdout",
          "output_type": "stream",
          "text": [
            "Medidas                Valor\n",
            "Accuracy              0.8249\n",
            "Error Rate            0.1751\n",
            "Recall (macro)        0.5046\n",
            "Specificity (macro)   0.9161\n",
            "Balanced Accuracy     0.7104\n",
            "Precision (macro)     0.3275\n",
            "F1 Score (macro)      0.3632\n",
            "MCC                   0.2274\n",
            "ROC-AUC (macro)       0.7104\n",
            "*******************************\n",
            "Medidas                   Valor\n",
            "Accuracy                 0.8249\n",
            "Error Rate               0.1751\n",
            "Recall (weighted)        0.8249\n",
            "Specificity (weighted)   0.6719\n",
            "Balanced Accuracy        0.7484\n",
            "Precision (weighted)     0.9598\n",
            "F1 Score (weighted)      0.8843\n",
            "MCC                      0.2274\n",
            "ROC-AUC                  0.7104\n"
          ]
        }
      ],
      "source": [
        "kf = StratifiedKFold(n_splits = 5, shuffle = True, random_state = semilla)\n",
        "y_true_total = []\n",
        "y_pred_total = []\n",
        "y_proba_total = []\n",
        "\n",
        "for train_idx, test_idx in kf.split(X, Y):\n",
        "  x_train, x_test = X.iloc[train_idx], X.iloc[test_idx]\n",
        "  y_train, y_test = Y.iloc[train_idx], Y.iloc[test_idx]\n",
        "\n",
        "  smote = SMOTE(random_state = semilla)\n",
        "  x_train, y_train = smote.fit_resample(x_train, y_train)\n",
        "\n",
        "  model = KNeighborsClassifier(n_neighbors = 1, metric = 'manhattan')\n",
        "  model.fit(x_train, y_train)\n",
        "  y_pred = model.predict(x_test)\n",
        "  y_prob = model.predict_proba(x_test)\n",
        "\n",
        "  y_true_total.extend(y_test)\n",
        "  y_pred_total.extend(y_pred)\n",
        "  y_proba_total.extend(y_prob)\n",
        "\n",
        "y_proba_total = np.array(y_proba_total)\n",
        "\n",
        "macro_medidas_2(y_true_total, y_pred_total, y_proba_total)\n",
        "print('*'*31)\n",
        "weighted_medidas_2(y_true_total, y_pred_total, y_proba_total)"
      ]
    },
    {
      "cell_type": "markdown",
      "metadata": {},
      "source": [
        "### Algoritmo IB3"
      ]
    },
    {
      "cell_type": "code",
      "execution_count": 54,
      "metadata": {},
      "outputs": [
        {
          "name": "stdout",
          "output_type": "stream",
          "text": [
            "Medidas                Valor\n",
            "Accuracy              0.7616\n",
            "Error Rate            0.2384\n",
            "Recall (macro)        0.5411\n",
            "Specificity (macro)   0.9236\n",
            "Balanced Accuracy     0.7323\n",
            "Precision (macro)     0.3068\n",
            "F1 Score (macro)      0.3430\n",
            "MCC                   0.2197\n",
            "ROC-AUC (macro)       0.7664\n",
            "*******************************\n",
            "Medidas                   Valor\n",
            "Accuracy                 0.7616\n",
            "Error Rate               0.2384\n",
            "Recall (weighted)        0.7616\n",
            "Specificity (weighted)   0.7798\n",
            "Balanced Accuracy        0.7707\n",
            "Precision (weighted)     0.9624\n",
            "F1 Score (weighted)      0.8451\n",
            "MCC                      0.2197\n",
            "ROC-AUC                  0.7664\n"
          ]
        }
      ],
      "source": [
        "kf = StratifiedKFold(n_splits = 5, shuffle = True, random_state = semilla)\n",
        "y_true_total = []\n",
        "y_pred_total = []\n",
        "y_proba_total = []\n",
        "\n",
        "for train_idx, test_idx in kf.split(X, Y):\n",
        "  x_train, x_test = X.iloc[train_idx], X.iloc[test_idx]\n",
        "  y_train, y_test = Y.iloc[train_idx], Y.iloc[test_idx]\n",
        "\n",
        "  smote = SMOTE(random_state = semilla)\n",
        "  x_train, y_train = smote.fit_resample(x_train, y_train)\n",
        "\n",
        "  model = KNeighborsClassifier(n_neighbors = 3, metric = 'manhattan')\n",
        "  model.fit(x_train, y_train)\n",
        "  y_pred = model.predict(x_test)\n",
        "  y_prob = model.predict_proba(x_test)\n",
        "\n",
        "  y_true_total.extend(y_test)\n",
        "  y_pred_total.extend(y_pred)\n",
        "  y_proba_total.extend(y_prob)\n",
        "\n",
        "y_proba_total = np.array(y_proba_total)\n",
        "\n",
        "macro_medidas_2(y_true_total, y_pred_total, y_proba_total)\n",
        "print('*'*31)\n",
        "weighted_medidas_2(y_true_total, y_pred_total, y_proba_total)"
      ]
    },
    {
      "cell_type": "markdown",
      "metadata": {},
      "source": [
        "### Algoritmo IB5"
      ]
    },
    {
      "cell_type": "code",
      "execution_count": 55,
      "metadata": {},
      "outputs": [
        {
          "name": "stdout",
          "output_type": "stream",
          "text": [
            "Medidas                Valor\n",
            "Accuracy              0.7281\n",
            "Error Rate            0.2719\n",
            "Recall (macro)        0.5656\n",
            "Specificity (macro)   0.9253\n",
            "Balanced Accuracy     0.7455\n",
            "Precision (macro)     0.2979\n",
            "F1 Score (macro)      0.3329\n",
            "MCC                   0.2159\n",
            "ROC-AUC (macro)       0.7865\n",
            "*******************************\n",
            "Medidas                   Valor\n",
            "Accuracy                 0.7281\n",
            "Error Rate               0.2719\n",
            "Recall (weighted)        0.7281\n",
            "Specificity (weighted)   0.8240\n",
            "Balanced Accuracy        0.7760\n",
            "Precision (weighted)     0.9636\n",
            "F1 Score (weighted)      0.8230\n",
            "MCC                      0.2159\n",
            "ROC-AUC                  0.7865\n"
          ]
        }
      ],
      "source": [
        "kf = StratifiedKFold(n_splits = 5, shuffle = True, random_state = semilla)\n",
        "y_true_total = []\n",
        "y_pred_total = []\n",
        "y_proba_total = []\n",
        "\n",
        "for train_idx, test_idx in kf.split(X, Y):\n",
        "  x_train, x_test = X.iloc[train_idx], X.iloc[test_idx]\n",
        "  y_train, y_test = Y.iloc[train_idx], Y.iloc[test_idx]\n",
        "\n",
        "  smote = SMOTE(random_state = semilla)\n",
        "  x_train, y_train = smote.fit_resample(x_train, y_train)\n",
        "\n",
        "  model = KNeighborsClassifier(n_neighbors = 5, metric = 'manhattan')\n",
        "  model.fit(x_train, y_train)\n",
        "  y_pred = model.predict(x_test)\n",
        "  y_prob = model.predict_proba(x_test)\n",
        "\n",
        "  y_true_total.extend(y_test)\n",
        "  y_pred_total.extend(y_pred)\n",
        "  y_proba_total.extend(y_prob)\n",
        "\n",
        "y_proba_total = np.array(y_proba_total)\n",
        "\n",
        "macro_medidas_2(y_true_total, y_pred_total, y_proba_total)\n",
        "print('*'*31)\n",
        "weighted_medidas_2(y_true_total, y_pred_total, y_proba_total)"
      ]
    },
    {
      "cell_type": "markdown",
      "metadata": {},
      "source": [
        "### Algoritmo IB7"
      ]
    },
    {
      "cell_type": "code",
      "execution_count": 56,
      "metadata": {},
      "outputs": [
        {
          "name": "stdout",
          "output_type": "stream",
          "text": [
            "Medidas                Valor\n",
            "Accuracy              0.6989\n",
            "Error Rate            0.3011\n",
            "Recall (macro)        0.5587\n",
            "Specificity (macro)   0.9209\n",
            "Balanced Accuracy     0.7398\n",
            "Precision (macro)     0.2882\n",
            "F1 Score (macro)      0.3188\n",
            "MCC                   0.2026\n",
            "ROC-AUC (macro)       0.7951\n",
            "*******************************\n",
            "Medidas                   Valor\n",
            "Accuracy                 0.6989\n",
            "Error Rate               0.3011\n",
            "Recall (weighted)        0.6989\n",
            "Specificity (weighted)   0.8266\n",
            "Balanced Accuracy        0.7628\n",
            "Precision (weighted)     0.9628\n",
            "F1 Score (weighted)      0.8027\n",
            "MCC                      0.2026\n",
            "ROC-AUC                  0.7951\n"
          ]
        }
      ],
      "source": [
        "kf = StratifiedKFold(n_splits = 5, shuffle = True, random_state = semilla)\n",
        "y_true_total = []\n",
        "y_pred_total = []\n",
        "y_proba_total = []\n",
        "\n",
        "for train_idx, test_idx in kf.split(X, Y):\n",
        "  x_train, x_test = X.iloc[train_idx], X.iloc[test_idx]\n",
        "  y_train, y_test = Y.iloc[train_idx], Y.iloc[test_idx]\n",
        "\n",
        "  smote = SMOTE(random_state = semilla)\n",
        "  x_train, y_train = smote.fit_resample(x_train, y_train)\n",
        "\n",
        "  model = KNeighborsClassifier(n_neighbors = 7, metric = 'manhattan')\n",
        "  model.fit(x_train, y_train)\n",
        "  y_pred = model.predict(x_test)\n",
        "  y_prob = model.predict_proba(x_test)\n",
        "\n",
        "  y_true_total.extend(y_test)\n",
        "  y_pred_total.extend(y_pred)\n",
        "  y_proba_total.extend(y_prob)\n",
        "\n",
        "y_proba_total = np.array(y_proba_total)\n",
        "\n",
        "macro_medidas_2(y_true_total, y_pred_total, y_proba_total)\n",
        "print('*'*31)\n",
        "weighted_medidas_2(y_true_total, y_pred_total, y_proba_total)"
      ]
    },
    {
      "cell_type": "markdown",
      "metadata": {},
      "source": [
        "### Naive Bayes"
      ]
    },
    {
      "cell_type": "code",
      "execution_count": 57,
      "metadata": {},
      "outputs": [
        {
          "name": "stdout",
          "output_type": "stream",
          "text": [
            "Medidas                Valor\n",
            "Accuracy              0.5541\n",
            "Error Rate            0.4459\n",
            "Recall (macro)        0.7074\n",
            "Specificity (macro)   0.9170\n",
            "Balanced Accuracy     0.8122\n",
            "Precision (macro)     0.2623\n",
            "F1 Score (macro)      0.2768\n",
            "MCC                   0.2016\n",
            "ROC-AUC (macro)       0.8741\n",
            "*******************************\n",
            "Medidas                   Valor\n",
            "Accuracy                 0.5541\n",
            "Error Rate               0.4459\n",
            "Recall (weighted)        0.5541\n",
            "Specificity (weighted)   0.9481\n",
            "Balanced Accuracy        0.7511\n",
            "Precision (weighted)     0.9672\n",
            "F1 Score (weighted)      0.6889\n",
            "MCC                      0.2016\n",
            "ROC-AUC                  0.8741\n"
          ]
        }
      ],
      "source": [
        "kf = StratifiedKFold(n_splits = 5, shuffle = True, random_state = semilla)\n",
        "y_true_total = []\n",
        "y_pred_total = []\n",
        "y_proba_total = []\n",
        "\n",
        "for train_idx, test_idx in kf.split(X, Y):\n",
        "  x_train, x_test = X.iloc[train_idx], X.iloc[test_idx]\n",
        "  y_train, y_test = Y.iloc[train_idx], Y.iloc[test_idx]\n",
        "\n",
        "  smote = SMOTE(random_state = semilla)\n",
        "  x_train, y_train = smote.fit_resample(x_train, y_train)\n",
        "\n",
        "  model = GaussianNB()\n",
        "  model.fit(x_train, y_train)\n",
        "  y_pred = model.predict(x_test)\n",
        "  y_prob = model.predict_proba(x_test)\n",
        "\n",
        "  y_true_total.extend(y_test)\n",
        "  y_pred_total.extend(y_pred)\n",
        "  y_proba_total.extend(y_prob)\n",
        "\n",
        "y_proba_total = np.array(y_proba_total)\n",
        "\n",
        "macro_medidas_2(y_true_total, y_pred_total, y_proba_total)\n",
        "print('*'*31)\n",
        "weighted_medidas_2(y_true_total, y_pred_total, y_proba_total)"
      ]
    },
    {
      "cell_type": "markdown",
      "metadata": {},
      "source": [
        "### Regresión Logística"
      ]
    },
    {
      "cell_type": "code",
      "execution_count": 58,
      "metadata": {},
      "outputs": [
        {
          "name": "stderr",
          "output_type": "stream",
          "text": [
            "/home/jair/anaconda3/envs/CIP/lib/python3.11/site-packages/sklearn/linear_model/_logistic.py:465: ConvergenceWarning: lbfgs failed to converge (status=1):\n",
            "STOP: TOTAL NO. OF ITERATIONS REACHED LIMIT.\n",
            "\n",
            "Increase the number of iterations (max_iter) or scale the data as shown in:\n",
            "    https://scikit-learn.org/stable/modules/preprocessing.html\n",
            "Please also refer to the documentation for alternative solver options:\n",
            "    https://scikit-learn.org/stable/modules/linear_model.html#logistic-regression\n",
            "  n_iter_i = _check_optimize_result(\n",
            "/home/jair/anaconda3/envs/CIP/lib/python3.11/site-packages/sklearn/linear_model/_logistic.py:465: ConvergenceWarning: lbfgs failed to converge (status=1):\n",
            "STOP: TOTAL NO. OF ITERATIONS REACHED LIMIT.\n",
            "\n",
            "Increase the number of iterations (max_iter) or scale the data as shown in:\n",
            "    https://scikit-learn.org/stable/modules/preprocessing.html\n",
            "Please also refer to the documentation for alternative solver options:\n",
            "    https://scikit-learn.org/stable/modules/linear_model.html#logistic-regression\n",
            "  n_iter_i = _check_optimize_result(\n",
            "/home/jair/anaconda3/envs/CIP/lib/python3.11/site-packages/sklearn/linear_model/_logistic.py:465: ConvergenceWarning: lbfgs failed to converge (status=1):\n",
            "STOP: TOTAL NO. OF ITERATIONS REACHED LIMIT.\n",
            "\n",
            "Increase the number of iterations (max_iter) or scale the data as shown in:\n",
            "    https://scikit-learn.org/stable/modules/preprocessing.html\n",
            "Please also refer to the documentation for alternative solver options:\n",
            "    https://scikit-learn.org/stable/modules/linear_model.html#logistic-regression\n",
            "  n_iter_i = _check_optimize_result(\n",
            "/home/jair/anaconda3/envs/CIP/lib/python3.11/site-packages/sklearn/linear_model/_logistic.py:465: ConvergenceWarning: lbfgs failed to converge (status=1):\n",
            "STOP: TOTAL NO. OF ITERATIONS REACHED LIMIT.\n",
            "\n",
            "Increase the number of iterations (max_iter) or scale the data as shown in:\n",
            "    https://scikit-learn.org/stable/modules/preprocessing.html\n",
            "Please also refer to the documentation for alternative solver options:\n",
            "    https://scikit-learn.org/stable/modules/linear_model.html#logistic-regression\n",
            "  n_iter_i = _check_optimize_result(\n"
          ]
        },
        {
          "name": "stdout",
          "output_type": "stream",
          "text": [
            "Medidas                Valor\n",
            "Accuracy              0.5507\n",
            "Error Rate            0.4493\n",
            "Recall (macro)        0.6890\n",
            "Specificity (macro)   0.9210\n",
            "Balanced Accuracy     0.8050\n",
            "Precision (macro)     0.2681\n",
            "F1 Score (macro)      0.2799\n",
            "MCC                   0.2008\n",
            "ROC-AUC (macro)       0.8680\n",
            "*******************************\n",
            "Medidas                   Valor\n",
            "Accuracy                 0.5507\n",
            "Error Rate               0.4493\n",
            "Recall (weighted)        0.5507\n",
            "Specificity (weighted)   0.9753\n",
            "Balanced Accuracy        0.7630\n",
            "Precision (weighted)     0.9689\n",
            "F1 Score (weighted)      0.6863\n",
            "MCC                      0.2008\n",
            "ROC-AUC                  0.8680\n"
          ]
        },
        {
          "name": "stderr",
          "output_type": "stream",
          "text": [
            "/home/jair/anaconda3/envs/CIP/lib/python3.11/site-packages/sklearn/linear_model/_logistic.py:465: ConvergenceWarning: lbfgs failed to converge (status=1):\n",
            "STOP: TOTAL NO. OF ITERATIONS REACHED LIMIT.\n",
            "\n",
            "Increase the number of iterations (max_iter) or scale the data as shown in:\n",
            "    https://scikit-learn.org/stable/modules/preprocessing.html\n",
            "Please also refer to the documentation for alternative solver options:\n",
            "    https://scikit-learn.org/stable/modules/linear_model.html#logistic-regression\n",
            "  n_iter_i = _check_optimize_result(\n"
          ]
        }
      ],
      "source": [
        "kf = StratifiedKFold(n_splits = 5, shuffle = True, random_state = semilla)\n",
        "y_true_total = []\n",
        "y_pred_total = []\n",
        "y_proba_total = []\n",
        "\n",
        "for train_idx, test_idx in kf.split(X, Y):\n",
        "  x_train, x_test = X.iloc[train_idx], X.iloc[test_idx]\n",
        "  y_train, y_test = Y.iloc[train_idx], Y.iloc[test_idx]\n",
        "\n",
        "  smote = SMOTE(random_state = semilla)\n",
        "  x_train, y_train = smote.fit_resample(x_train, y_train)\n",
        "\n",
        "  model = LogisticRegression()\n",
        "  model.fit(x_train, y_train)\n",
        "  y_pred = model.predict(x_test)\n",
        "  y_prob = model.predict_proba(x_test)\n",
        "\n",
        "  y_true_total.extend(y_test)\n",
        "  y_pred_total.extend(y_pred)\n",
        "  y_proba_total.extend(y_prob)\n",
        "\n",
        "y_proba_total = np.array(y_proba_total)\n",
        "\n",
        "macro_medidas_2(y_true_total, y_pred_total, y_proba_total)\n",
        "print('*'*31)\n",
        "weighted_medidas_2(y_true_total, y_pred_total, y_proba_total)"
      ]
    },
    {
      "cell_type": "markdown",
      "metadata": {},
      "source": [
        "### SVM"
      ]
    },
    {
      "cell_type": "code",
      "execution_count": 59,
      "metadata": {},
      "outputs": [
        {
          "name": "stdout",
          "output_type": "stream",
          "text": [
            "Medidas                Valor\n",
            "Accuracy              0.3540\n",
            "Error Rate            0.6460\n",
            "Recall (macro)        0.6444\n",
            "Specificity (macro)   0.8877\n",
            "Balanced Accuracy     0.7660\n",
            "Precision (macro)     0.3004\n",
            "F1 Score (macro)      0.2636\n",
            "MCC                   0.1558\n",
            "ROC-AUC (macro)       0.5986\n",
            "*******************************\n",
            "Medidas                   Valor\n",
            "Accuracy                 0.3540\n",
            "Error Rate               0.6460\n",
            "Recall (weighted)        0.3540\n",
            "Specificity (weighted)   0.9722\n",
            "Balanced Accuracy        0.6631\n",
            "Precision (weighted)     0.9698\n",
            "F1 Score (weighted)      0.4979\n",
            "MCC                      0.1558\n",
            "ROC-AUC                  0.5986\n"
          ]
        }
      ],
      "source": [
        "kf = StratifiedKFold(n_splits = 5, shuffle = True, random_state = semilla)\n",
        "y_true_total = []\n",
        "y_pred_total = []\n",
        "y_proba_total = []\n",
        "\n",
        "for train_idx, test_idx in kf.split(X, Y):\n",
        "  x_train, x_test = X.iloc[train_idx], X.iloc[test_idx]\n",
        "  y_train, y_test = Y.iloc[train_idx], Y.iloc[test_idx]\n",
        "\n",
        "  smote = SMOTE(random_state = semilla)\n",
        "  x_train, y_train = smote.fit_resample(x_train, y_train)\n",
        "\n",
        "  model = SVC()\n",
        "  model.fit(x_train, y_train)\n",
        "  y_pred = model.predict(x_test)\n",
        "  #y_prob = model.predict_proba(x_test)\n",
        "\n",
        "  y_true_total.extend(y_test)\n",
        "  y_pred_total.extend(y_pred)\n",
        "  y_proba_total.extend(y_prob)\n",
        "\n",
        "y_proba_total = np.array(y_proba_total)\n",
        "\n",
        "macro_medidas_2(y_true_total, y_pred_total, y_proba_total)\n",
        "print('*'*31)\n",
        "weighted_medidas_2(y_true_total, y_pred_total, y_proba_total)"
      ]
    },
    {
      "cell_type": "markdown",
      "metadata": {},
      "source": [
        "### Árbol de desición"
      ]
    },
    {
      "cell_type": "code",
      "execution_count": 60,
      "metadata": {},
      "outputs": [
        {
          "name": "stdout",
          "output_type": "stream",
          "text": [
            "Medidas                Valor\n",
            "Accuracy              0.9428\n",
            "Error Rate            0.0572\n",
            "Recall (macro)        0.5733\n",
            "Specificity (macro)   0.9461\n",
            "Balanced Accuracy     0.7597\n",
            "Precision (macro)     0.5076\n",
            "F1 Score (macro)      0.5284\n",
            "MCC                   0.4684\n",
            "ROC-AUC (macro)       0.5986\n",
            "*******************************\n",
            "Medidas                   Valor\n",
            "Accuracy                 0.9428\n",
            "Error Rate               0.0572\n",
            "Recall (weighted)        0.9428\n",
            "Specificity (weighted)   0.7335\n",
            "Balanced Accuracy        0.8382\n",
            "Precision (weighted)     0.9747\n",
            "F1 Score (weighted)      0.9581\n",
            "MCC                      0.4684\n",
            "ROC-AUC                  0.5986\n"
          ]
        }
      ],
      "source": [
        "kf = StratifiedKFold(n_splits = 5, shuffle = True, random_state = semilla)\n",
        "y_true_total = []\n",
        "y_pred_total = []\n",
        "y_proba_total = []\n",
        "\n",
        "for train_idx, test_idx in kf.split(X, Y):\n",
        "  x_train, x_test = X.iloc[train_idx], X.iloc[test_idx]\n",
        "  y_train, y_test = Y.iloc[train_idx], Y.iloc[test_idx]\n",
        "\n",
        "  smote = SMOTE(random_state = semilla)\n",
        "  x_train, y_train = smote.fit_resample(x_train, y_train)\n",
        "\n",
        "  model = DecisionTreeClassifier()\n",
        "  model.fit(x_train, y_train)\n",
        "  y_pred = model.predict(x_test)\n",
        "  #y_prob = model.predict_proba(x_test)\n",
        "\n",
        "  y_true_total.extend(y_test)\n",
        "  y_pred_total.extend(y_pred)\n",
        "  y_proba_total.extend(y_prob)\n",
        "\n",
        "y_proba_total = np.array(y_proba_total)\n",
        "\n",
        "macro_medidas_2(y_true_total, y_pred_total, y_proba_total)\n",
        "print('*'*31)\n",
        "weighted_medidas_2(y_true_total, y_pred_total, y_proba_total)"
      ]
    },
    {
      "cell_type": "markdown",
      "metadata": {},
      "source": [
        "### Random Forest"
      ]
    },
    {
      "cell_type": "code",
      "execution_count": 61,
      "metadata": {},
      "outputs": [
        {
          "name": "stdout",
          "output_type": "stream",
          "text": [
            "Medidas                Valor\n",
            "Accuracy              0.9585\n",
            "Error Rate            0.0415\n",
            "Recall (macro)        0.6014\n",
            "Specificity (macro)   0.9501\n",
            "Balanced Accuracy     0.7757\n",
            "Precision (macro)     0.5243\n",
            "F1 Score (macro)      0.5549\n",
            "MCC                   0.5502\n",
            "ROC-AUC (macro)       0.5986\n",
            "*******************************\n",
            "Medidas                   Valor\n",
            "Accuracy                 0.9585\n",
            "Error Rate               0.0415\n",
            "Recall (weighted)        0.9585\n",
            "Specificity (weighted)   0.7419\n",
            "Balanced Accuracy        0.8502\n",
            "Precision (weighted)     0.9759\n",
            "F1 Score (weighted)      0.9668\n",
            "MCC                      0.5502\n",
            "ROC-AUC                  0.5986\n"
          ]
        }
      ],
      "source": [
        "kf = StratifiedKFold(n_splits = 5, shuffle = True, random_state = semilla)\n",
        "y_true_total = []\n",
        "y_pred_total = []\n",
        "y_proba_total = []\n",
        "\n",
        "for train_idx, test_idx in kf.split(X, Y):\n",
        "  x_train, x_test = X.iloc[train_idx], X.iloc[test_idx]\n",
        "  y_train, y_test = Y.iloc[train_idx], Y.iloc[test_idx]\n",
        "\n",
        "  smote = SMOTE(random_state = semilla)\n",
        "  x_train, y_train = smote.fit_resample(x_train, y_train)\n",
        "\n",
        "  model = RandomForestClassifier()\n",
        "  model.fit(x_train, y_train)\n",
        "  y_pred = model.predict(x_test)\n",
        "  #y_prob = model.predict_proba(x_test)\n",
        "\n",
        "  y_true_total.extend(y_test)\n",
        "  y_pred_total.extend(y_pred)\n",
        "  y_proba_total.extend(y_prob)\n",
        "\n",
        "y_proba_total = np.array(y_proba_total)\n",
        "\n",
        "macro_medidas_2(y_true_total, y_pred_total, y_proba_total)\n",
        "print('*'*31)\n",
        "weighted_medidas_2(y_true_total, y_pred_total, y_proba_total)"
      ]
    },
    {
      "cell_type": "markdown",
      "metadata": {},
      "source": [
        "### Red Neuronal"
      ]
    },
    {
      "cell_type": "code",
      "execution_count": 62,
      "metadata": {},
      "outputs": [
        {
          "name": "stderr",
          "output_type": "stream",
          "text": [
            "/home/jair/anaconda3/envs/CIP/lib/python3.11/site-packages/keras/src/layers/core/dense.py:93: UserWarning: Do not pass an `input_shape`/`input_dim` argument to a layer. When using Sequential models, prefer using an `Input(shape)` object as the first layer in the model instead.\n",
            "  super().__init__(activity_regularizer=activity_regularizer, **kwargs)\n",
            "2025-06-17 11:51:20.393613: E external/local_xla/xla/stream_executor/cuda/cuda_platform.cc:51] failed call to cuInit: INTERNAL: CUDA error: Failed call to cuInit: UNKNOWN ERROR (303)\n"
          ]
        },
        {
          "name": "stdout",
          "output_type": "stream",
          "text": [
            "\u001b[1m63/63\u001b[0m \u001b[32m━━━━━━━━━━━━━━━━━━━━\u001b[0m\u001b[37m\u001b[0m \u001b[1m0s\u001b[0m 1ms/step  \n"
          ]
        },
        {
          "name": "stderr",
          "output_type": "stream",
          "text": [
            "/home/jair/anaconda3/envs/CIP/lib/python3.11/site-packages/keras/src/layers/core/dense.py:93: UserWarning: Do not pass an `input_shape`/`input_dim` argument to a layer. When using Sequential models, prefer using an `Input(shape)` object as the first layer in the model instead.\n",
            "  super().__init__(activity_regularizer=activity_regularizer, **kwargs)\n"
          ]
        },
        {
          "name": "stdout",
          "output_type": "stream",
          "text": [
            "\u001b[1m63/63\u001b[0m \u001b[32m━━━━━━━━━━━━━━━━━━━━\u001b[0m\u001b[37m\u001b[0m \u001b[1m0s\u001b[0m 1ms/step\n"
          ]
        },
        {
          "name": "stderr",
          "output_type": "stream",
          "text": [
            "/home/jair/anaconda3/envs/CIP/lib/python3.11/site-packages/keras/src/layers/core/dense.py:93: UserWarning: Do not pass an `input_shape`/`input_dim` argument to a layer. When using Sequential models, prefer using an `Input(shape)` object as the first layer in the model instead.\n",
            "  super().__init__(activity_regularizer=activity_regularizer, **kwargs)\n"
          ]
        },
        {
          "name": "stdout",
          "output_type": "stream",
          "text": [
            "\u001b[1m63/63\u001b[0m \u001b[32m━━━━━━━━━━━━━━━━━━━━\u001b[0m\u001b[37m\u001b[0m \u001b[1m0s\u001b[0m 1ms/step\n"
          ]
        },
        {
          "name": "stderr",
          "output_type": "stream",
          "text": [
            "/home/jair/anaconda3/envs/CIP/lib/python3.11/site-packages/keras/src/layers/core/dense.py:93: UserWarning: Do not pass an `input_shape`/`input_dim` argument to a layer. When using Sequential models, prefer using an `Input(shape)` object as the first layer in the model instead.\n",
            "  super().__init__(activity_regularizer=activity_regularizer, **kwargs)\n"
          ]
        },
        {
          "name": "stdout",
          "output_type": "stream",
          "text": [
            "\u001b[1m63/63\u001b[0m \u001b[32m━━━━━━━━━━━━━━━━━━━━\u001b[0m\u001b[37m\u001b[0m \u001b[1m0s\u001b[0m 1ms/step  \n"
          ]
        },
        {
          "name": "stderr",
          "output_type": "stream",
          "text": [
            "/home/jair/anaconda3/envs/CIP/lib/python3.11/site-packages/keras/src/layers/core/dense.py:93: UserWarning: Do not pass an `input_shape`/`input_dim` argument to a layer. When using Sequential models, prefer using an `Input(shape)` object as the first layer in the model instead.\n",
            "  super().__init__(activity_regularizer=activity_regularizer, **kwargs)\n"
          ]
        },
        {
          "name": "stdout",
          "output_type": "stream",
          "text": [
            "\u001b[1m63/63\u001b[0m \u001b[32m━━━━━━━━━━━━━━━━━━━━\u001b[0m\u001b[37m\u001b[0m \u001b[1m0s\u001b[0m 2ms/step\n",
            "Medidas                Valor\n",
            "Accuracy              0.6831\n",
            "Error Rate            0.3169\n",
            "Recall (macro)        0.5983\n",
            "Specificity (macro)   0.9187\n",
            "Balanced Accuracy     0.7585\n",
            "Precision (macro)     0.3274\n",
            "F1 Score (macro)      0.3592\n",
            "MCC                   0.2173\n",
            "ROC-AUC (macro)       0.8499\n",
            "*******************************\n",
            "Medidas                   Valor\n",
            "Accuracy                 0.6831\n",
            "Error Rate               0.3169\n",
            "Recall (weighted)        0.6831\n",
            "Specificity (weighted)   0.8292\n",
            "Balanced Accuracy        0.7562\n",
            "Precision (weighted)     0.9651\n",
            "F1 Score (weighted)      0.7916\n",
            "MCC                      0.2173\n",
            "ROC-AUC                  0.8499\n"
          ]
        }
      ],
      "source": [
        "semilla = 7\n",
        "np.random.seed(semilla)\n",
        "tf.random.set_seed(semilla)\n",
        "random.seed(semilla)\n",
        "\n",
        "# Resultados acumulados\n",
        "y_true_total = []\n",
        "y_pred_total = []\n",
        "y_proba_total = []\n",
        "\n",
        "kf = StratifiedKFold(n_splits=5, shuffle=True, random_state=semilla)\n",
        "n_clases = len(np.unique(Y))\n",
        "\n",
        "for train_idx, test_idx in kf.split(X, Y):\n",
        "    x_train, x_test = X.iloc[train_idx], X.iloc[test_idx]\n",
        "    y_train, y_test = Y.iloc[train_idx], Y.iloc[test_idx]\n",
        "\n",
        "    # SMOTE\n",
        "    smote = SMOTE(random_state=semilla)\n",
        "    x_train, y_train = smote.fit_resample(x_train, y_train)\n",
        "\n",
        "    # Modelo multiclase\n",
        "    model = Sequential([\n",
        "        Dense(21, activation='relu', input_shape=(x_train.shape[1],), kernel_initializer=HeNormal(seed=semilla)),\n",
        "        Dense(33, activation='relu', kernel_initializer=HeNormal(seed=semilla)),\n",
        "        Dense(n_clases, activation='softmax')\n",
        "    ])\n",
        "\n",
        "    model.compile(optimizer=Adam(learning_rate=0.003),\n",
        "                  loss='sparse_categorical_crossentropy',\n",
        "                  metrics=['accuracy'])\n",
        "\n",
        "    model.fit(x_train, y_train, epochs=50, batch_size=16, validation_split=0.2, verbose=0)\n",
        "\n",
        "    # Predicciones\n",
        "    y_prob = model.predict(x_test)  # salida (n_samples, n_classes)\n",
        "    y_pred = np.argmax(y_prob, axis=1)\n",
        "\n",
        "    y_true_total.extend(y_test)\n",
        "    y_pred_total.extend(y_pred)\n",
        "    y_proba_total.extend(y_prob)\n",
        "\n",
        "# Aplanar resultados\n",
        "y_true_total = np.array(y_true_total)\n",
        "y_pred_total = np.array(y_pred_total)\n",
        "y_proba_total = np.array(y_proba_total).reshape(-1, n_clases)\n",
        "\n",
        "# Mostrar métricas\n",
        "macro_medidas_2(y_true_total, y_pred_total, y_proba_total)\n",
        "print('*' * 31)\n",
        "weighted_medidas_2(y_true_total, y_pred_total, y_proba_total)\n"
      ]
    }
  ],
  "metadata": {
    "colab": {
      "provenance": []
    },
    "kernelspec": {
      "display_name": "CIP",
      "language": "python",
      "name": "python3"
    },
    "language_info": {
      "codemirror_mode": {
        "name": "ipython",
        "version": 3
      },
      "file_extension": ".py",
      "mimetype": "text/x-python",
      "name": "python",
      "nbconvert_exporter": "python",
      "pygments_lexer": "ipython3",
      "version": "3.11.11"
    }
  },
  "nbformat": 4,
  "nbformat_minor": 0
}
