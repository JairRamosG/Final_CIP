{
  "nbformat": 4,
  "nbformat_minor": 0,
  "metadata": {
    "colab": {
      "provenance": []
    },
    "kernelspec": {
      "name": "python3",
      "display_name": "Python 3"
    },
    "language_info": {
      "name": "python"
    }
  },
  "cells": [
    {
      "cell_type": "markdown",
      "source": [
        "# Oil Spill Dataset\n",
        "\n",
        "\n",
        "The dataset was developed by starting with satellite images of the ocean, some of which contain an oil spill and some that do not.\n",
        "Images were split into sections and processed using computer vision algorithms to provide a vector of features to describe the contents of the image section or patch.\n",
        "The task is, given a vector that describes the contents of a patch of a satellite image, then predicts whether the patch contains an oil spill or not, e.g. from the illegal or accidental dumping of oil in the ocean.\n",
        "\n",
        "There are two classes and the goal is to distinguish between spill and non-spill using the features for a given ocean patch.\n",
        "\n",
        "Non-Spill: negative case, or majority class --> [0]\n",
        "\n",
        "Oil Spill: positive case, or minority class --> [1]"
      ],
      "metadata": {
        "id": "fR0kROzNGGs7"
      }
    },
    {
      "cell_type": "code",
      "execution_count": 30,
      "metadata": {
        "id": "s3m2tzLkF5Bt"
      },
      "outputs": [],
      "source": [
        "import pandas as pd"
      ]
    },
    {
      "cell_type": "code",
      "source": [
        "df = pd.read_csv('oil_spill.csv')\n",
        "df = df.sample(frac = 1, random_state = 7).reset_index(drop = True)\n",
        "df.head(25)"
      ],
      "metadata": {
        "colab": {
          "base_uri": "https://localhost:8080/",
          "height": 863
        },
        "id": "NemWhaTDF8m2",
        "outputId": "c79e47b5-21c7-459a-bd47-2bd5e6661ab2"
      },
      "execution_count": 31,
      "outputs": [
        {
          "output_type": "execute_result",
          "data": {
            "text/plain": [
              "    f_1   f_2      f_3      f_4  f_5      f_6    f_7    f_8      f_9  f_10  \\\n",
              "0   120    10    85.90   171.80   72    81000  54.10   9.18    884.0  0.17   \n",
              "1    82    12    13.33   483.92   34    97200  73.33   5.47    868.0  0.07   \n",
              "2   130    58  1113.98   965.40   55   145000  38.57   7.48   2310.0  0.19   \n",
              "3     3  2339  1537.68  1633.02   45  5847500  38.13   9.29  22110.0  0.24   \n",
              "4   139    14    37.57   304.43   35   113400  55.07   7.22   1011.0  0.13   \n",
              "5     4   220   264.28   560.03  167  1782000  45.51  13.98  11909.0  0.31   \n",
              "6   192   162  1178.77   993.60   99   405000  34.73   6.88   4340.0  0.20   \n",
              "7    61    61  1245.49  1268.11  151    85781  33.87  14.88   1302.0  0.44   \n",
              "8    98    92  1401.25   933.60   93   230000  43.38   5.99   3430.0  0.14   \n",
              "9    15    33    30.55   385.03   51   267300  72.61  16.89   1482.0  0.23   \n",
              "10  204    11     7.73   235.73  135    89100  61.82  12.24    831.0  0.20   \n",
              "11   14    78   266.33   188.99  121   631800  48.53  12.04   4605.0  0.25   \n",
              "12   43    92  1688.79  1245.62   35   230000  36.89   6.17   2030.0  0.17   \n",
              "13  150   112   821.42   999.41    1   280000  41.11   5.92   2980.0  0.14   \n",
              "14   34    18    16.00   384.28  125   145800  53.22   9.37   1535.0  0.18   \n",
              "15   12    29   454.66   624.00  155   234900  55.83  16.89   1858.0  0.30   \n",
              "16    3   183   474.38   309.86  135  1482300  54.20  18.60   9294.0  0.34   \n",
              "17   34    65  1213.38  1683.72   24    91406  24.06   7.73   1227.0  0.32   \n",
              "18  118    96   920.20   640.12   41   240000  31.50   7.44   2370.0  0.24   \n",
              "19   16    22    31.23   412.77   62   178200  49.77   8.49   1985.0  0.17   \n",
              "20   50    51  1064.12   432.69   51   127500  31.61   5.26   2210.0  0.17   \n",
              "21   99    56  1732.82  1557.52    8   140000  38.32   4.53   1280.0  0.12   \n",
              "22   27    91   982.67   899.04   49   127968  27.27   9.12   2370.0  0.33   \n",
              "23  137    51   111.84  1653.65  168   127500  44.43   2.80   1680.0  0.06   \n",
              "24   11  1115  1290.31   636.15   66  2787500  30.37   8.69  13830.0  0.29   \n",
              "\n",
              "    ...     f_41     f_42     f_43    f_44   f_45  f_46      f_47   f_48  \\\n",
              "0   ...   484.66    90.00    54.00   49.30   8.98     1   6226.34  65.59   \n",
              "1   ...   402.49   127.28    95.46   63.64   4.22     0   5509.43  65.98   \n",
              "2   ...   430.12   320.16   171.41   92.94   2.51     0   3622.84  65.93   \n",
              "3   ...  3959.80  2404.16  1530.38  659.67   2.59     0   4732.04  66.34   \n",
              "4   ...   402.49   254.56    63.64  127.28   6.32     0   2963.85  65.75   \n",
              "5   ...  3623.55   655.21   357.20  157.02  10.14     1  10769.64  66.17   \n",
              "6   ...  1265.90   509.90   227.86  140.98   5.56     0   5606.99  65.95   \n",
              "7   ...   469.87   251.56   129.70   75.38   3.62     0   7610.61  36.85   \n",
              "8   ...   951.31   300.00   176.32   88.77   5.40     0   8586.62  65.98   \n",
              "9   ...   576.28   381.84   305.47   69.71   1.89     0   9412.12  65.85   \n",
              "10  ...   254.56   254.56   127.28  180.00   2.00     0   3782.68  65.65   \n",
              "11  ...  1127.70   649.00   331.59  185.94   3.40     0  13669.58  65.68   \n",
              "12  ...   790.57   360.56   218.54  103.73   3.62     0   3668.15  66.18   \n",
              "13  ...   900.00   400.00   275.00   69.13   3.27     0   4514.70  65.91   \n",
              "14  ...   649.00   127.28   106.07   51.96   6.12     1   8654.28  65.85   \n",
              "15  ...   768.96   284.60   170.58   61.45   4.51     0  22517.01  66.33   \n",
              "16  ...  2672.86   636.40   345.47  145.92   7.74     0  28174.27  65.92   \n",
              "17  ...     0.00     0.00     0.00    0.00   0.00     0   9122.65  36.86   \n",
              "18  ...   851.47   282.84   184.94   84.35   4.60     0  27836.68  65.77   \n",
              "19  ...  1049.57   127.28    25.46   53.67  41.23     1   2312.51  65.89   \n",
              "20  ...  1140.18    70.71    35.36   36.38  32.25     1   6946.12  65.67   \n",
              "21  ...   509.90   353.55   215.77   75.97   2.36     0   3664.41  66.33   \n",
              "22  ...   850.18   265.17    96.93   90.13   8.77     0  12460.92  36.64   \n",
              "23  ...   509.90   316.23   136.62   67.36   3.73     0  27403.81  66.16   \n",
              "24  ...  3447.10  1411.56   824.28  212.62   4.18     0   7016.73  65.80   \n",
              "\n",
              "     f_49  target  \n",
              "0    6.56       0  \n",
              "1    6.02       0  \n",
              "2    7.35       0  \n",
              "3    7.67       0  \n",
              "4    6.28       0  \n",
              "5    6.74       0  \n",
              "6    7.42       0  \n",
              "7   15.16       0  \n",
              "8    7.75       0  \n",
              "9    6.18       0  \n",
              "10   6.26       0  \n",
              "11   7.11       0  \n",
              "12   7.98       0  \n",
              "13   7.02       0  \n",
              "14   6.13       0  \n",
              "15   7.28       1  \n",
              "16   7.65       1  \n",
              "17  14.99       0  \n",
              "18   7.29       1  \n",
              "19   6.15       0  \n",
              "20   7.48       0  \n",
              "21   7.93       0  \n",
              "22  15.26       0  \n",
              "23   5.98       0  \n",
              "24   7.66       0  \n",
              "\n",
              "[25 rows x 50 columns]"
            ],
            "text/html": [
              "\n",
              "  <div id=\"df-d846585e-9dcf-4ce3-baca-d4100b282448\" class=\"colab-df-container\">\n",
              "    <div>\n",
              "<style scoped>\n",
              "    .dataframe tbody tr th:only-of-type {\n",
              "        vertical-align: middle;\n",
              "    }\n",
              "\n",
              "    .dataframe tbody tr th {\n",
              "        vertical-align: top;\n",
              "    }\n",
              "\n",
              "    .dataframe thead th {\n",
              "        text-align: right;\n",
              "    }\n",
              "</style>\n",
              "<table border=\"1\" class=\"dataframe\">\n",
              "  <thead>\n",
              "    <tr style=\"text-align: right;\">\n",
              "      <th></th>\n",
              "      <th>f_1</th>\n",
              "      <th>f_2</th>\n",
              "      <th>f_3</th>\n",
              "      <th>f_4</th>\n",
              "      <th>f_5</th>\n",
              "      <th>f_6</th>\n",
              "      <th>f_7</th>\n",
              "      <th>f_8</th>\n",
              "      <th>f_9</th>\n",
              "      <th>f_10</th>\n",
              "      <th>...</th>\n",
              "      <th>f_41</th>\n",
              "      <th>f_42</th>\n",
              "      <th>f_43</th>\n",
              "      <th>f_44</th>\n",
              "      <th>f_45</th>\n",
              "      <th>f_46</th>\n",
              "      <th>f_47</th>\n",
              "      <th>f_48</th>\n",
              "      <th>f_49</th>\n",
              "      <th>target</th>\n",
              "    </tr>\n",
              "  </thead>\n",
              "  <tbody>\n",
              "    <tr>\n",
              "      <th>0</th>\n",
              "      <td>120</td>\n",
              "      <td>10</td>\n",
              "      <td>85.90</td>\n",
              "      <td>171.80</td>\n",
              "      <td>72</td>\n",
              "      <td>81000</td>\n",
              "      <td>54.10</td>\n",
              "      <td>9.18</td>\n",
              "      <td>884.0</td>\n",
              "      <td>0.17</td>\n",
              "      <td>...</td>\n",
              "      <td>484.66</td>\n",
              "      <td>90.00</td>\n",
              "      <td>54.00</td>\n",
              "      <td>49.30</td>\n",
              "      <td>8.98</td>\n",
              "      <td>1</td>\n",
              "      <td>6226.34</td>\n",
              "      <td>65.59</td>\n",
              "      <td>6.56</td>\n",
              "      <td>0</td>\n",
              "    </tr>\n",
              "    <tr>\n",
              "      <th>1</th>\n",
              "      <td>82</td>\n",
              "      <td>12</td>\n",
              "      <td>13.33</td>\n",
              "      <td>483.92</td>\n",
              "      <td>34</td>\n",
              "      <td>97200</td>\n",
              "      <td>73.33</td>\n",
              "      <td>5.47</td>\n",
              "      <td>868.0</td>\n",
              "      <td>0.07</td>\n",
              "      <td>...</td>\n",
              "      <td>402.49</td>\n",
              "      <td>127.28</td>\n",
              "      <td>95.46</td>\n",
              "      <td>63.64</td>\n",
              "      <td>4.22</td>\n",
              "      <td>0</td>\n",
              "      <td>5509.43</td>\n",
              "      <td>65.98</td>\n",
              "      <td>6.02</td>\n",
              "      <td>0</td>\n",
              "    </tr>\n",
              "    <tr>\n",
              "      <th>2</th>\n",
              "      <td>130</td>\n",
              "      <td>58</td>\n",
              "      <td>1113.98</td>\n",
              "      <td>965.40</td>\n",
              "      <td>55</td>\n",
              "      <td>145000</td>\n",
              "      <td>38.57</td>\n",
              "      <td>7.48</td>\n",
              "      <td>2310.0</td>\n",
              "      <td>0.19</td>\n",
              "      <td>...</td>\n",
              "      <td>430.12</td>\n",
              "      <td>320.16</td>\n",
              "      <td>171.41</td>\n",
              "      <td>92.94</td>\n",
              "      <td>2.51</td>\n",
              "      <td>0</td>\n",
              "      <td>3622.84</td>\n",
              "      <td>65.93</td>\n",
              "      <td>7.35</td>\n",
              "      <td>0</td>\n",
              "    </tr>\n",
              "    <tr>\n",
              "      <th>3</th>\n",
              "      <td>3</td>\n",
              "      <td>2339</td>\n",
              "      <td>1537.68</td>\n",
              "      <td>1633.02</td>\n",
              "      <td>45</td>\n",
              "      <td>5847500</td>\n",
              "      <td>38.13</td>\n",
              "      <td>9.29</td>\n",
              "      <td>22110.0</td>\n",
              "      <td>0.24</td>\n",
              "      <td>...</td>\n",
              "      <td>3959.80</td>\n",
              "      <td>2404.16</td>\n",
              "      <td>1530.38</td>\n",
              "      <td>659.67</td>\n",
              "      <td>2.59</td>\n",
              "      <td>0</td>\n",
              "      <td>4732.04</td>\n",
              "      <td>66.34</td>\n",
              "      <td>7.67</td>\n",
              "      <td>0</td>\n",
              "    </tr>\n",
              "    <tr>\n",
              "      <th>4</th>\n",
              "      <td>139</td>\n",
              "      <td>14</td>\n",
              "      <td>37.57</td>\n",
              "      <td>304.43</td>\n",
              "      <td>35</td>\n",
              "      <td>113400</td>\n",
              "      <td>55.07</td>\n",
              "      <td>7.22</td>\n",
              "      <td>1011.0</td>\n",
              "      <td>0.13</td>\n",
              "      <td>...</td>\n",
              "      <td>402.49</td>\n",
              "      <td>254.56</td>\n",
              "      <td>63.64</td>\n",
              "      <td>127.28</td>\n",
              "      <td>6.32</td>\n",
              "      <td>0</td>\n",
              "      <td>2963.85</td>\n",
              "      <td>65.75</td>\n",
              "      <td>6.28</td>\n",
              "      <td>0</td>\n",
              "    </tr>\n",
              "    <tr>\n",
              "      <th>5</th>\n",
              "      <td>4</td>\n",
              "      <td>220</td>\n",
              "      <td>264.28</td>\n",
              "      <td>560.03</td>\n",
              "      <td>167</td>\n",
              "      <td>1782000</td>\n",
              "      <td>45.51</td>\n",
              "      <td>13.98</td>\n",
              "      <td>11909.0</td>\n",
              "      <td>0.31</td>\n",
              "      <td>...</td>\n",
              "      <td>3623.55</td>\n",
              "      <td>655.21</td>\n",
              "      <td>357.20</td>\n",
              "      <td>157.02</td>\n",
              "      <td>10.14</td>\n",
              "      <td>1</td>\n",
              "      <td>10769.64</td>\n",
              "      <td>66.17</td>\n",
              "      <td>6.74</td>\n",
              "      <td>0</td>\n",
              "    </tr>\n",
              "    <tr>\n",
              "      <th>6</th>\n",
              "      <td>192</td>\n",
              "      <td>162</td>\n",
              "      <td>1178.77</td>\n",
              "      <td>993.60</td>\n",
              "      <td>99</td>\n",
              "      <td>405000</td>\n",
              "      <td>34.73</td>\n",
              "      <td>6.88</td>\n",
              "      <td>4340.0</td>\n",
              "      <td>0.20</td>\n",
              "      <td>...</td>\n",
              "      <td>1265.90</td>\n",
              "      <td>509.90</td>\n",
              "      <td>227.86</td>\n",
              "      <td>140.98</td>\n",
              "      <td>5.56</td>\n",
              "      <td>0</td>\n",
              "      <td>5606.99</td>\n",
              "      <td>65.95</td>\n",
              "      <td>7.42</td>\n",
              "      <td>0</td>\n",
              "    </tr>\n",
              "    <tr>\n",
              "      <th>7</th>\n",
              "      <td>61</td>\n",
              "      <td>61</td>\n",
              "      <td>1245.49</td>\n",
              "      <td>1268.11</td>\n",
              "      <td>151</td>\n",
              "      <td>85781</td>\n",
              "      <td>33.87</td>\n",
              "      <td>14.88</td>\n",
              "      <td>1302.0</td>\n",
              "      <td>0.44</td>\n",
              "      <td>...</td>\n",
              "      <td>469.87</td>\n",
              "      <td>251.56</td>\n",
              "      <td>129.70</td>\n",
              "      <td>75.38</td>\n",
              "      <td>3.62</td>\n",
              "      <td>0</td>\n",
              "      <td>7610.61</td>\n",
              "      <td>36.85</td>\n",
              "      <td>15.16</td>\n",
              "      <td>0</td>\n",
              "    </tr>\n",
              "    <tr>\n",
              "      <th>8</th>\n",
              "      <td>98</td>\n",
              "      <td>92</td>\n",
              "      <td>1401.25</td>\n",
              "      <td>933.60</td>\n",
              "      <td>93</td>\n",
              "      <td>230000</td>\n",
              "      <td>43.38</td>\n",
              "      <td>5.99</td>\n",
              "      <td>3430.0</td>\n",
              "      <td>0.14</td>\n",
              "      <td>...</td>\n",
              "      <td>951.31</td>\n",
              "      <td>300.00</td>\n",
              "      <td>176.32</td>\n",
              "      <td>88.77</td>\n",
              "      <td>5.40</td>\n",
              "      <td>0</td>\n",
              "      <td>8586.62</td>\n",
              "      <td>65.98</td>\n",
              "      <td>7.75</td>\n",
              "      <td>0</td>\n",
              "    </tr>\n",
              "    <tr>\n",
              "      <th>9</th>\n",
              "      <td>15</td>\n",
              "      <td>33</td>\n",
              "      <td>30.55</td>\n",
              "      <td>385.03</td>\n",
              "      <td>51</td>\n",
              "      <td>267300</td>\n",
              "      <td>72.61</td>\n",
              "      <td>16.89</td>\n",
              "      <td>1482.0</td>\n",
              "      <td>0.23</td>\n",
              "      <td>...</td>\n",
              "      <td>576.28</td>\n",
              "      <td>381.84</td>\n",
              "      <td>305.47</td>\n",
              "      <td>69.71</td>\n",
              "      <td>1.89</td>\n",
              "      <td>0</td>\n",
              "      <td>9412.12</td>\n",
              "      <td>65.85</td>\n",
              "      <td>6.18</td>\n",
              "      <td>0</td>\n",
              "    </tr>\n",
              "    <tr>\n",
              "      <th>10</th>\n",
              "      <td>204</td>\n",
              "      <td>11</td>\n",
              "      <td>7.73</td>\n",
              "      <td>235.73</td>\n",
              "      <td>135</td>\n",
              "      <td>89100</td>\n",
              "      <td>61.82</td>\n",
              "      <td>12.24</td>\n",
              "      <td>831.0</td>\n",
              "      <td>0.20</td>\n",
              "      <td>...</td>\n",
              "      <td>254.56</td>\n",
              "      <td>254.56</td>\n",
              "      <td>127.28</td>\n",
              "      <td>180.00</td>\n",
              "      <td>2.00</td>\n",
              "      <td>0</td>\n",
              "      <td>3782.68</td>\n",
              "      <td>65.65</td>\n",
              "      <td>6.26</td>\n",
              "      <td>0</td>\n",
              "    </tr>\n",
              "    <tr>\n",
              "      <th>11</th>\n",
              "      <td>14</td>\n",
              "      <td>78</td>\n",
              "      <td>266.33</td>\n",
              "      <td>188.99</td>\n",
              "      <td>121</td>\n",
              "      <td>631800</td>\n",
              "      <td>48.53</td>\n",
              "      <td>12.04</td>\n",
              "      <td>4605.0</td>\n",
              "      <td>0.25</td>\n",
              "      <td>...</td>\n",
              "      <td>1127.70</td>\n",
              "      <td>649.00</td>\n",
              "      <td>331.59</td>\n",
              "      <td>185.94</td>\n",
              "      <td>3.40</td>\n",
              "      <td>0</td>\n",
              "      <td>13669.58</td>\n",
              "      <td>65.68</td>\n",
              "      <td>7.11</td>\n",
              "      <td>0</td>\n",
              "    </tr>\n",
              "    <tr>\n",
              "      <th>12</th>\n",
              "      <td>43</td>\n",
              "      <td>92</td>\n",
              "      <td>1688.79</td>\n",
              "      <td>1245.62</td>\n",
              "      <td>35</td>\n",
              "      <td>230000</td>\n",
              "      <td>36.89</td>\n",
              "      <td>6.17</td>\n",
              "      <td>2030.0</td>\n",
              "      <td>0.17</td>\n",
              "      <td>...</td>\n",
              "      <td>790.57</td>\n",
              "      <td>360.56</td>\n",
              "      <td>218.54</td>\n",
              "      <td>103.73</td>\n",
              "      <td>3.62</td>\n",
              "      <td>0</td>\n",
              "      <td>3668.15</td>\n",
              "      <td>66.18</td>\n",
              "      <td>7.98</td>\n",
              "      <td>0</td>\n",
              "    </tr>\n",
              "    <tr>\n",
              "      <th>13</th>\n",
              "      <td>150</td>\n",
              "      <td>112</td>\n",
              "      <td>821.42</td>\n",
              "      <td>999.41</td>\n",
              "      <td>1</td>\n",
              "      <td>280000</td>\n",
              "      <td>41.11</td>\n",
              "      <td>5.92</td>\n",
              "      <td>2980.0</td>\n",
              "      <td>0.14</td>\n",
              "      <td>...</td>\n",
              "      <td>900.00</td>\n",
              "      <td>400.00</td>\n",
              "      <td>275.00</td>\n",
              "      <td>69.13</td>\n",
              "      <td>3.27</td>\n",
              "      <td>0</td>\n",
              "      <td>4514.70</td>\n",
              "      <td>65.91</td>\n",
              "      <td>7.02</td>\n",
              "      <td>0</td>\n",
              "    </tr>\n",
              "    <tr>\n",
              "      <th>14</th>\n",
              "      <td>34</td>\n",
              "      <td>18</td>\n",
              "      <td>16.00</td>\n",
              "      <td>384.28</td>\n",
              "      <td>125</td>\n",
              "      <td>145800</td>\n",
              "      <td>53.22</td>\n",
              "      <td>9.37</td>\n",
              "      <td>1535.0</td>\n",
              "      <td>0.18</td>\n",
              "      <td>...</td>\n",
              "      <td>649.00</td>\n",
              "      <td>127.28</td>\n",
              "      <td>106.07</td>\n",
              "      <td>51.96</td>\n",
              "      <td>6.12</td>\n",
              "      <td>1</td>\n",
              "      <td>8654.28</td>\n",
              "      <td>65.85</td>\n",
              "      <td>6.13</td>\n",
              "      <td>0</td>\n",
              "    </tr>\n",
              "    <tr>\n",
              "      <th>15</th>\n",
              "      <td>12</td>\n",
              "      <td>29</td>\n",
              "      <td>454.66</td>\n",
              "      <td>624.00</td>\n",
              "      <td>155</td>\n",
              "      <td>234900</td>\n",
              "      <td>55.83</td>\n",
              "      <td>16.89</td>\n",
              "      <td>1858.0</td>\n",
              "      <td>0.30</td>\n",
              "      <td>...</td>\n",
              "      <td>768.96</td>\n",
              "      <td>284.60</td>\n",
              "      <td>170.58</td>\n",
              "      <td>61.45</td>\n",
              "      <td>4.51</td>\n",
              "      <td>0</td>\n",
              "      <td>22517.01</td>\n",
              "      <td>66.33</td>\n",
              "      <td>7.28</td>\n",
              "      <td>1</td>\n",
              "    </tr>\n",
              "    <tr>\n",
              "      <th>16</th>\n",
              "      <td>3</td>\n",
              "      <td>183</td>\n",
              "      <td>474.38</td>\n",
              "      <td>309.86</td>\n",
              "      <td>135</td>\n",
              "      <td>1482300</td>\n",
              "      <td>54.20</td>\n",
              "      <td>18.60</td>\n",
              "      <td>9294.0</td>\n",
              "      <td>0.34</td>\n",
              "      <td>...</td>\n",
              "      <td>2672.86</td>\n",
              "      <td>636.40</td>\n",
              "      <td>345.47</td>\n",
              "      <td>145.92</td>\n",
              "      <td>7.74</td>\n",
              "      <td>0</td>\n",
              "      <td>28174.27</td>\n",
              "      <td>65.92</td>\n",
              "      <td>7.65</td>\n",
              "      <td>1</td>\n",
              "    </tr>\n",
              "    <tr>\n",
              "      <th>17</th>\n",
              "      <td>34</td>\n",
              "      <td>65</td>\n",
              "      <td>1213.38</td>\n",
              "      <td>1683.72</td>\n",
              "      <td>24</td>\n",
              "      <td>91406</td>\n",
              "      <td>24.06</td>\n",
              "      <td>7.73</td>\n",
              "      <td>1227.0</td>\n",
              "      <td>0.32</td>\n",
              "      <td>...</td>\n",
              "      <td>0.00</td>\n",
              "      <td>0.00</td>\n",
              "      <td>0.00</td>\n",
              "      <td>0.00</td>\n",
              "      <td>0.00</td>\n",
              "      <td>0</td>\n",
              "      <td>9122.65</td>\n",
              "      <td>36.86</td>\n",
              "      <td>14.99</td>\n",
              "      <td>0</td>\n",
              "    </tr>\n",
              "    <tr>\n",
              "      <th>18</th>\n",
              "      <td>118</td>\n",
              "      <td>96</td>\n",
              "      <td>920.20</td>\n",
              "      <td>640.12</td>\n",
              "      <td>41</td>\n",
              "      <td>240000</td>\n",
              "      <td>31.50</td>\n",
              "      <td>7.44</td>\n",
              "      <td>2370.0</td>\n",
              "      <td>0.24</td>\n",
              "      <td>...</td>\n",
              "      <td>851.47</td>\n",
              "      <td>282.84</td>\n",
              "      <td>184.94</td>\n",
              "      <td>84.35</td>\n",
              "      <td>4.60</td>\n",
              "      <td>0</td>\n",
              "      <td>27836.68</td>\n",
              "      <td>65.77</td>\n",
              "      <td>7.29</td>\n",
              "      <td>1</td>\n",
              "    </tr>\n",
              "    <tr>\n",
              "      <th>19</th>\n",
              "      <td>16</td>\n",
              "      <td>22</td>\n",
              "      <td>31.23</td>\n",
              "      <td>412.77</td>\n",
              "      <td>62</td>\n",
              "      <td>178200</td>\n",
              "      <td>49.77</td>\n",
              "      <td>8.49</td>\n",
              "      <td>1985.0</td>\n",
              "      <td>0.17</td>\n",
              "      <td>...</td>\n",
              "      <td>1049.57</td>\n",
              "      <td>127.28</td>\n",
              "      <td>25.46</td>\n",
              "      <td>53.67</td>\n",
              "      <td>41.23</td>\n",
              "      <td>1</td>\n",
              "      <td>2312.51</td>\n",
              "      <td>65.89</td>\n",
              "      <td>6.15</td>\n",
              "      <td>0</td>\n",
              "    </tr>\n",
              "    <tr>\n",
              "      <th>20</th>\n",
              "      <td>50</td>\n",
              "      <td>51</td>\n",
              "      <td>1064.12</td>\n",
              "      <td>432.69</td>\n",
              "      <td>51</td>\n",
              "      <td>127500</td>\n",
              "      <td>31.61</td>\n",
              "      <td>5.26</td>\n",
              "      <td>2210.0</td>\n",
              "      <td>0.17</td>\n",
              "      <td>...</td>\n",
              "      <td>1140.18</td>\n",
              "      <td>70.71</td>\n",
              "      <td>35.36</td>\n",
              "      <td>36.38</td>\n",
              "      <td>32.25</td>\n",
              "      <td>1</td>\n",
              "      <td>6946.12</td>\n",
              "      <td>65.67</td>\n",
              "      <td>7.48</td>\n",
              "      <td>0</td>\n",
              "    </tr>\n",
              "    <tr>\n",
              "      <th>21</th>\n",
              "      <td>99</td>\n",
              "      <td>56</td>\n",
              "      <td>1732.82</td>\n",
              "      <td>1557.52</td>\n",
              "      <td>8</td>\n",
              "      <td>140000</td>\n",
              "      <td>38.32</td>\n",
              "      <td>4.53</td>\n",
              "      <td>1280.0</td>\n",
              "      <td>0.12</td>\n",
              "      <td>...</td>\n",
              "      <td>509.90</td>\n",
              "      <td>353.55</td>\n",
              "      <td>215.77</td>\n",
              "      <td>75.97</td>\n",
              "      <td>2.36</td>\n",
              "      <td>0</td>\n",
              "      <td>3664.41</td>\n",
              "      <td>66.33</td>\n",
              "      <td>7.93</td>\n",
              "      <td>0</td>\n",
              "    </tr>\n",
              "    <tr>\n",
              "      <th>22</th>\n",
              "      <td>27</td>\n",
              "      <td>91</td>\n",
              "      <td>982.67</td>\n",
              "      <td>899.04</td>\n",
              "      <td>49</td>\n",
              "      <td>127968</td>\n",
              "      <td>27.27</td>\n",
              "      <td>9.12</td>\n",
              "      <td>2370.0</td>\n",
              "      <td>0.33</td>\n",
              "      <td>...</td>\n",
              "      <td>850.18</td>\n",
              "      <td>265.17</td>\n",
              "      <td>96.93</td>\n",
              "      <td>90.13</td>\n",
              "      <td>8.77</td>\n",
              "      <td>0</td>\n",
              "      <td>12460.92</td>\n",
              "      <td>36.64</td>\n",
              "      <td>15.26</td>\n",
              "      <td>0</td>\n",
              "    </tr>\n",
              "    <tr>\n",
              "      <th>23</th>\n",
              "      <td>137</td>\n",
              "      <td>51</td>\n",
              "      <td>111.84</td>\n",
              "      <td>1653.65</td>\n",
              "      <td>168</td>\n",
              "      <td>127500</td>\n",
              "      <td>44.43</td>\n",
              "      <td>2.80</td>\n",
              "      <td>1680.0</td>\n",
              "      <td>0.06</td>\n",
              "      <td>...</td>\n",
              "      <td>509.90</td>\n",
              "      <td>316.23</td>\n",
              "      <td>136.62</td>\n",
              "      <td>67.36</td>\n",
              "      <td>3.73</td>\n",
              "      <td>0</td>\n",
              "      <td>27403.81</td>\n",
              "      <td>66.16</td>\n",
              "      <td>5.98</td>\n",
              "      <td>0</td>\n",
              "    </tr>\n",
              "    <tr>\n",
              "      <th>24</th>\n",
              "      <td>11</td>\n",
              "      <td>1115</td>\n",
              "      <td>1290.31</td>\n",
              "      <td>636.15</td>\n",
              "      <td>66</td>\n",
              "      <td>2787500</td>\n",
              "      <td>30.37</td>\n",
              "      <td>8.69</td>\n",
              "      <td>13830.0</td>\n",
              "      <td>0.29</td>\n",
              "      <td>...</td>\n",
              "      <td>3447.10</td>\n",
              "      <td>1411.56</td>\n",
              "      <td>824.28</td>\n",
              "      <td>212.62</td>\n",
              "      <td>4.18</td>\n",
              "      <td>0</td>\n",
              "      <td>7016.73</td>\n",
              "      <td>65.80</td>\n",
              "      <td>7.66</td>\n",
              "      <td>0</td>\n",
              "    </tr>\n",
              "  </tbody>\n",
              "</table>\n",
              "<p>25 rows × 50 columns</p>\n",
              "</div>\n",
              "    <div class=\"colab-df-buttons\">\n",
              "\n",
              "  <div class=\"colab-df-container\">\n",
              "    <button class=\"colab-df-convert\" onclick=\"convertToInteractive('df-d846585e-9dcf-4ce3-baca-d4100b282448')\"\n",
              "            title=\"Convert this dataframe to an interactive table.\"\n",
              "            style=\"display:none;\">\n",
              "\n",
              "  <svg xmlns=\"http://www.w3.org/2000/svg\" height=\"24px\" viewBox=\"0 -960 960 960\">\n",
              "    <path d=\"M120-120v-720h720v720H120Zm60-500h600v-160H180v160Zm220 220h160v-160H400v160Zm0 220h160v-160H400v160ZM180-400h160v-160H180v160Zm440 0h160v-160H620v160ZM180-180h160v-160H180v160Zm440 0h160v-160H620v160Z\"/>\n",
              "  </svg>\n",
              "    </button>\n",
              "\n",
              "  <style>\n",
              "    .colab-df-container {\n",
              "      display:flex;\n",
              "      gap: 12px;\n",
              "    }\n",
              "\n",
              "    .colab-df-convert {\n",
              "      background-color: #E8F0FE;\n",
              "      border: none;\n",
              "      border-radius: 50%;\n",
              "      cursor: pointer;\n",
              "      display: none;\n",
              "      fill: #1967D2;\n",
              "      height: 32px;\n",
              "      padding: 0 0 0 0;\n",
              "      width: 32px;\n",
              "    }\n",
              "\n",
              "    .colab-df-convert:hover {\n",
              "      background-color: #E2EBFA;\n",
              "      box-shadow: 0px 1px 2px rgba(60, 64, 67, 0.3), 0px 1px 3px 1px rgba(60, 64, 67, 0.15);\n",
              "      fill: #174EA6;\n",
              "    }\n",
              "\n",
              "    .colab-df-buttons div {\n",
              "      margin-bottom: 4px;\n",
              "    }\n",
              "\n",
              "    [theme=dark] .colab-df-convert {\n",
              "      background-color: #3B4455;\n",
              "      fill: #D2E3FC;\n",
              "    }\n",
              "\n",
              "    [theme=dark] .colab-df-convert:hover {\n",
              "      background-color: #434B5C;\n",
              "      box-shadow: 0px 1px 3px 1px rgba(0, 0, 0, 0.15);\n",
              "      filter: drop-shadow(0px 1px 2px rgba(0, 0, 0, 0.3));\n",
              "      fill: #FFFFFF;\n",
              "    }\n",
              "  </style>\n",
              "\n",
              "    <script>\n",
              "      const buttonEl =\n",
              "        document.querySelector('#df-d846585e-9dcf-4ce3-baca-d4100b282448 button.colab-df-convert');\n",
              "      buttonEl.style.display =\n",
              "        google.colab.kernel.accessAllowed ? 'block' : 'none';\n",
              "\n",
              "      async function convertToInteractive(key) {\n",
              "        const element = document.querySelector('#df-d846585e-9dcf-4ce3-baca-d4100b282448');\n",
              "        const dataTable =\n",
              "          await google.colab.kernel.invokeFunction('convertToInteractive',\n",
              "                                                    [key], {});\n",
              "        if (!dataTable) return;\n",
              "\n",
              "        const docLinkHtml = 'Like what you see? Visit the ' +\n",
              "          '<a target=\"_blank\" href=https://colab.research.google.com/notebooks/data_table.ipynb>data table notebook</a>'\n",
              "          + ' to learn more about interactive tables.';\n",
              "        element.innerHTML = '';\n",
              "        dataTable['output_type'] = 'display_data';\n",
              "        await google.colab.output.renderOutput(dataTable, element);\n",
              "        const docLink = document.createElement('div');\n",
              "        docLink.innerHTML = docLinkHtml;\n",
              "        element.appendChild(docLink);\n",
              "      }\n",
              "    </script>\n",
              "  </div>\n",
              "\n",
              "\n",
              "    <div id=\"df-319635a3-76b9-4026-a3ef-66d56a03d235\">\n",
              "      <button class=\"colab-df-quickchart\" onclick=\"quickchart('df-319635a3-76b9-4026-a3ef-66d56a03d235')\"\n",
              "                title=\"Suggest charts\"\n",
              "                style=\"display:none;\">\n",
              "\n",
              "<svg xmlns=\"http://www.w3.org/2000/svg\" height=\"24px\"viewBox=\"0 0 24 24\"\n",
              "     width=\"24px\">\n",
              "    <g>\n",
              "        <path d=\"M19 3H5c-1.1 0-2 .9-2 2v14c0 1.1.9 2 2 2h14c1.1 0 2-.9 2-2V5c0-1.1-.9-2-2-2zM9 17H7v-7h2v7zm4 0h-2V7h2v10zm4 0h-2v-4h2v4z\"/>\n",
              "    </g>\n",
              "</svg>\n",
              "      </button>\n",
              "\n",
              "<style>\n",
              "  .colab-df-quickchart {\n",
              "      --bg-color: #E8F0FE;\n",
              "      --fill-color: #1967D2;\n",
              "      --hover-bg-color: #E2EBFA;\n",
              "      --hover-fill-color: #174EA6;\n",
              "      --disabled-fill-color: #AAA;\n",
              "      --disabled-bg-color: #DDD;\n",
              "  }\n",
              "\n",
              "  [theme=dark] .colab-df-quickchart {\n",
              "      --bg-color: #3B4455;\n",
              "      --fill-color: #D2E3FC;\n",
              "      --hover-bg-color: #434B5C;\n",
              "      --hover-fill-color: #FFFFFF;\n",
              "      --disabled-bg-color: #3B4455;\n",
              "      --disabled-fill-color: #666;\n",
              "  }\n",
              "\n",
              "  .colab-df-quickchart {\n",
              "    background-color: var(--bg-color);\n",
              "    border: none;\n",
              "    border-radius: 50%;\n",
              "    cursor: pointer;\n",
              "    display: none;\n",
              "    fill: var(--fill-color);\n",
              "    height: 32px;\n",
              "    padding: 0;\n",
              "    width: 32px;\n",
              "  }\n",
              "\n",
              "  .colab-df-quickchart:hover {\n",
              "    background-color: var(--hover-bg-color);\n",
              "    box-shadow: 0 1px 2px rgba(60, 64, 67, 0.3), 0 1px 3px 1px rgba(60, 64, 67, 0.15);\n",
              "    fill: var(--button-hover-fill-color);\n",
              "  }\n",
              "\n",
              "  .colab-df-quickchart-complete:disabled,\n",
              "  .colab-df-quickchart-complete:disabled:hover {\n",
              "    background-color: var(--disabled-bg-color);\n",
              "    fill: var(--disabled-fill-color);\n",
              "    box-shadow: none;\n",
              "  }\n",
              "\n",
              "  .colab-df-spinner {\n",
              "    border: 2px solid var(--fill-color);\n",
              "    border-color: transparent;\n",
              "    border-bottom-color: var(--fill-color);\n",
              "    animation:\n",
              "      spin 1s steps(1) infinite;\n",
              "  }\n",
              "\n",
              "  @keyframes spin {\n",
              "    0% {\n",
              "      border-color: transparent;\n",
              "      border-bottom-color: var(--fill-color);\n",
              "      border-left-color: var(--fill-color);\n",
              "    }\n",
              "    20% {\n",
              "      border-color: transparent;\n",
              "      border-left-color: var(--fill-color);\n",
              "      border-top-color: var(--fill-color);\n",
              "    }\n",
              "    30% {\n",
              "      border-color: transparent;\n",
              "      border-left-color: var(--fill-color);\n",
              "      border-top-color: var(--fill-color);\n",
              "      border-right-color: var(--fill-color);\n",
              "    }\n",
              "    40% {\n",
              "      border-color: transparent;\n",
              "      border-right-color: var(--fill-color);\n",
              "      border-top-color: var(--fill-color);\n",
              "    }\n",
              "    60% {\n",
              "      border-color: transparent;\n",
              "      border-right-color: var(--fill-color);\n",
              "    }\n",
              "    80% {\n",
              "      border-color: transparent;\n",
              "      border-right-color: var(--fill-color);\n",
              "      border-bottom-color: var(--fill-color);\n",
              "    }\n",
              "    90% {\n",
              "      border-color: transparent;\n",
              "      border-bottom-color: var(--fill-color);\n",
              "    }\n",
              "  }\n",
              "</style>\n",
              "\n",
              "      <script>\n",
              "        async function quickchart(key) {\n",
              "          const quickchartButtonEl =\n",
              "            document.querySelector('#' + key + ' button');\n",
              "          quickchartButtonEl.disabled = true;  // To prevent multiple clicks.\n",
              "          quickchartButtonEl.classList.add('colab-df-spinner');\n",
              "          try {\n",
              "            const charts = await google.colab.kernel.invokeFunction(\n",
              "                'suggestCharts', [key], {});\n",
              "          } catch (error) {\n",
              "            console.error('Error during call to suggestCharts:', error);\n",
              "          }\n",
              "          quickchartButtonEl.classList.remove('colab-df-spinner');\n",
              "          quickchartButtonEl.classList.add('colab-df-quickchart-complete');\n",
              "        }\n",
              "        (() => {\n",
              "          let quickchartButtonEl =\n",
              "            document.querySelector('#df-319635a3-76b9-4026-a3ef-66d56a03d235 button');\n",
              "          quickchartButtonEl.style.display =\n",
              "            google.colab.kernel.accessAllowed ? 'block' : 'none';\n",
              "        })();\n",
              "      </script>\n",
              "    </div>\n",
              "\n",
              "    </div>\n",
              "  </div>\n"
            ],
            "application/vnd.google.colaboratory.intrinsic+json": {
              "type": "dataframe",
              "variable_name": "df"
            }
          },
          "metadata": {},
          "execution_count": 31
        }
      ]
    },
    {
      "cell_type": "markdown",
      "source": [
        "## --> Exploración"
      ],
      "metadata": {
        "id": "dRjYEt_ZGjPZ"
      }
    },
    {
      "cell_type": "code",
      "source": [
        "df.shape"
      ],
      "metadata": {
        "colab": {
          "base_uri": "https://localhost:8080/"
        },
        "id": "wfyC3JIAGrhX",
        "outputId": "4b8bf8e3-621a-4ec6-8c34-daa9741f36f2"
      },
      "execution_count": 32,
      "outputs": [
        {
          "output_type": "execute_result",
          "data": {
            "text/plain": [
              "(937, 50)"
            ]
          },
          "metadata": {},
          "execution_count": 32
        }
      ]
    },
    {
      "cell_type": "code",
      "source": [
        "df['target'].value_counts()"
      ],
      "metadata": {
        "colab": {
          "base_uri": "https://localhost:8080/",
          "height": 178
        },
        "id": "oT2hsW2UGwpv",
        "outputId": "f4bb99d1-4572-40d4-9c77-45763131df47"
      },
      "execution_count": 33,
      "outputs": [
        {
          "output_type": "execute_result",
          "data": {
            "text/plain": [
              "target\n",
              "0    896\n",
              "1     41\n",
              "Name: count, dtype: int64"
            ],
            "text/html": [
              "<div>\n",
              "<style scoped>\n",
              "    .dataframe tbody tr th:only-of-type {\n",
              "        vertical-align: middle;\n",
              "    }\n",
              "\n",
              "    .dataframe tbody tr th {\n",
              "        vertical-align: top;\n",
              "    }\n",
              "\n",
              "    .dataframe thead th {\n",
              "        text-align: right;\n",
              "    }\n",
              "</style>\n",
              "<table border=\"1\" class=\"dataframe\">\n",
              "  <thead>\n",
              "    <tr style=\"text-align: right;\">\n",
              "      <th></th>\n",
              "      <th>count</th>\n",
              "    </tr>\n",
              "    <tr>\n",
              "      <th>target</th>\n",
              "      <th></th>\n",
              "    </tr>\n",
              "  </thead>\n",
              "  <tbody>\n",
              "    <tr>\n",
              "      <th>0</th>\n",
              "      <td>896</td>\n",
              "    </tr>\n",
              "    <tr>\n",
              "      <th>1</th>\n",
              "      <td>41</td>\n",
              "    </tr>\n",
              "  </tbody>\n",
              "</table>\n",
              "</div><br><label><b>dtype:</b> int64</label>"
            ]
          },
          "metadata": {},
          "execution_count": 33
        }
      ]
    },
    {
      "cell_type": "code",
      "source": [
        "clase_mayoritaria = df['target'].value_counts()[0]\n",
        "clase_minoritaria = df['target'].value_counts()[1]\n",
        "IR = clase_mayoritaria / clase_minoritaria\n",
        "print(f\"IR: {IR}\")\n",
        "# Es un conjunto de datos desbalanceado"
      ],
      "metadata": {
        "colab": {
          "base_uri": "https://localhost:8080/"
        },
        "id": "tQw3L2XqHAn_",
        "outputId": "9808cbea-112e-476b-d8a0-0475f1b51003"
      },
      "execution_count": 34,
      "outputs": [
        {
          "output_type": "stream",
          "name": "stdout",
          "text": [
            "IR: 21.853658536585368\n"
          ]
        }
      ]
    },
    {
      "cell_type": "markdown",
      "source": [
        "## Limpieza de repetidos e indiscernibles  \n"
      ],
      "metadata": {
        "id": "MRjQ589LQBV8"
      }
    },
    {
      "cell_type": "code",
      "source": [
        "# ELiminar datos nulos\n",
        "df = df.dropna()\n",
        "\n",
        "# Eliminar duplicados\n",
        "df = df.drop_duplicates(keep = 'first')\n",
        "\n",
        "# Eliminar indiscernibles\n",
        "caracteristicas = df.drop('target', axis = 1)\n",
        "df = df[~df.duplicated(subset = caracteristicas, keep = False)]\n",
        "\n",
        "df.shape\n",
        "# No tiene valores nulos, duplicados ni indiscernibles"
      ],
      "metadata": {
        "colab": {
          "base_uri": "https://localhost:8080/"
        },
        "id": "oEXhRRx4QJb3",
        "outputId": "d7c98e60-d196-4946-d652-2a8794106181"
      },
      "execution_count": 35,
      "outputs": [
        {
          "output_type": "execute_result",
          "data": {
            "text/plain": [
              "(937, 50)"
            ]
          },
          "metadata": {},
          "execution_count": 35
        }
      ]
    },
    {
      "cell_type": "markdown",
      "source": [
        "## Creación de conjuntos de entrenamiento y prueba"
      ],
      "metadata": {
        "id": "O1z-cbY-JtRl"
      }
    },
    {
      "cell_type": "code",
      "source": [
        "X = df.drop('target', axis = 1)\n",
        "Y = df['target']\n",
        "\n",
        "# Entrenamiento\n",
        "proporcion = 0.8\n",
        "\n",
        "x_train = X.iloc[:int(len(X) * proporcion), :] # --> Hasta el 0.8\n",
        "y_train = Y.iloc[:int(len(X) * proporcion)]\n",
        "\n",
        "# Prueba\n",
        "x_test = X.iloc[int(len(Y) * proporcion):, :] # --> Desde el 0.8\n",
        "y_test = Y.iloc[int(len(Y) * proporcion):]"
      ],
      "metadata": {
        "id": "fEeiHybFJ4oN"
      },
      "execution_count": 36,
      "outputs": []
    },
    {
      "cell_type": "code",
      "source": [
        "print(f\"Y entrenamiento: {y_train.value_counts()}\")\n",
        "print(f\"Y prueba       : {y_test.value_counts()}\")"
      ],
      "metadata": {
        "colab": {
          "base_uri": "https://localhost:8080/"
        },
        "id": "xpkJnbyfKx2g",
        "outputId": "5fabb22b-915d-433e-bb9e-2c88bb3838b1"
      },
      "execution_count": 37,
      "outputs": [
        {
          "output_type": "stream",
          "name": "stdout",
          "text": [
            "Y entrenamiento: target\n",
            "0    718\n",
            "1     31\n",
            "Name: count, dtype: int64\n",
            "Y prueba       : target\n",
            "0    178\n",
            "1     10\n",
            "Name: count, dtype: int64\n"
          ]
        }
      ]
    },
    {
      "cell_type": "code",
      "source": [
        "print(f\"X entrenamiento: {x_train.shape}\")\n",
        "print(f\"Y entrenamiento: {y_train.shape}\")\n",
        "print(f\"X prueba: {x_test.shape}\")\n",
        "print(f\"Y prueba: {y_test.shape}\")"
      ],
      "metadata": {
        "colab": {
          "base_uri": "https://localhost:8080/"
        },
        "id": "-krLki_38ZgZ",
        "outputId": "ce5aaac5-42cd-4c62-e828-53a66e7eb543"
      },
      "execution_count": 38,
      "outputs": [
        {
          "output_type": "stream",
          "name": "stdout",
          "text": [
            "X entrenamiento: (749, 49)\n",
            "Y entrenamiento: (749,)\n",
            "X prueba: (188, 49)\n",
            "Y prueba: (188,)\n"
          ]
        }
      ]
    },
    {
      "cell_type": "markdown",
      "source": [
        "### Aplicar SMOTE en el conjunto de entrenamiento\n"
      ],
      "metadata": {
        "id": "jzmekewP6A4M"
      }
    },
    {
      "cell_type": "code",
      "source": [
        "from imblearn.over_sampling import SMOTE\n",
        "\n",
        "smote = SMOTE(random_state = 7)\n",
        "x_train, y_train = smote.fit_resample(x_train, y_train)"
      ],
      "metadata": {
        "id": "Ji6iTEMI6Lgi"
      },
      "execution_count": 39,
      "outputs": []
    },
    {
      "cell_type": "code",
      "source": [
        "print(f\"Y entrenamiento: {y_train.value_counts()}\")\n",
        "print(f\"Y prueba       : {y_test.value_counts()}\")"
      ],
      "metadata": {
        "colab": {
          "base_uri": "https://localhost:8080/"
        },
        "id": "PPeCB2x88Jxs",
        "outputId": "1bc31f26-d572-4884-c41b-eafdaec30664"
      },
      "execution_count": 40,
      "outputs": [
        {
          "output_type": "stream",
          "name": "stdout",
          "text": [
            "Y entrenamiento: target\n",
            "0    718\n",
            "1    718\n",
            "Name: count, dtype: int64\n",
            "Y prueba       : target\n",
            "0    178\n",
            "1     10\n",
            "Name: count, dtype: int64\n"
          ]
        }
      ]
    },
    {
      "cell_type": "code",
      "source": [
        "print(f\"X entrenamiento: {x_train.shape}\")\n",
        "print(f\"Y entrenamiento: {y_train.shape}\")\n",
        "print(f\"X prueba: {x_test.shape}\")\n",
        "print(f\"Y prueba: {y_test.shape}\")"
      ],
      "metadata": {
        "id": "ohnPvXmoDvxr",
        "colab": {
          "base_uri": "https://localhost:8080/"
        },
        "outputId": "6695e13c-2fb4-4c9d-b480-ec248605366c"
      },
      "execution_count": 41,
      "outputs": [
        {
          "output_type": "stream",
          "name": "stdout",
          "text": [
            "X entrenamiento: (1436, 49)\n",
            "Y entrenamiento: (1436,)\n",
            "X prueba: (188, 49)\n",
            "Y prueba: (188,)\n"
          ]
        }
      ]
    },
    {
      "cell_type": "markdown",
      "source": [
        "# Algoritmos Biclase\n",
        "* Euclidiano\n",
        "* 1NN\n",
        "* 3NN\n",
        "* 5NN\n",
        "* 7NN\n",
        "* IB1\n",
        "* IB3\n",
        "* IB5\n",
        "* IB7\n",
        "* Naive Bayes\n",
        "* Regresión logística\n",
        "* SVM\n",
        "* Árbol de desición\n",
        "* Random Forest\n",
        "* Red Neuronal\n",
        "\n",
        "Todos los algoritmos parten de una partición fija 80-20 con seed = 7"
      ],
      "metadata": {
        "id": "fhykRlAMM-J7"
      }
    },
    {
      "cell_type": "code",
      "source": [
        "from sklearn.metrics import (\n",
        "    accuracy_score, recall_score, precision_score, f1_score,\n",
        "    matthews_corrcoef, balanced_accuracy_score, roc_auc_score,\n",
        "    confusion_matrix\n",
        ")\n",
        "\n",
        "from sklearn.metrics import confusion_matrix"
      ],
      "metadata": {
        "id": "5ZZsDeJSR3d6"
      },
      "execution_count": 42,
      "outputs": []
    },
    {
      "cell_type": "code",
      "source": [
        "from tabulate import tabulate\n",
        "def calcula_medidas(y_test, y_pred):\n",
        "    accuracy = accuracy_score(y_test, y_pred)\n",
        "    error_rate = 1 - accuracy\n",
        "    recall = recall_score(y_test, y_pred)\n",
        "    specificity = recall_score(y_test, y_pred, pos_label = 0)\n",
        "    bacc = balanced_accuracy_score(y_test, y_pred)\n",
        "    precision = precision_score(y_test, y_pred)\n",
        "    f1 = f1_score(y_test, y_pred)\n",
        "    mcc = matthews_corrcoef(y_test, y_pred)\n",
        "    roc = roc_auc_score(y_test, y_pred)\n",
        "\n",
        "    metrics_table = [\n",
        "        ['Accuracy', accuracy],\n",
        "        ['Error Rate', error_rate],\n",
        "        ['Recall (Sensibilidad)', recall],\n",
        "        ['Specificity', specificity],\n",
        "        ['Balanced Accuracy', bacc],\n",
        "        ['Precision', precision],\n",
        "        ['F1 Score', f1],\n",
        "        ['MCC', mcc],\n",
        "        ['ROC AUC', roc]\n",
        "    ]\n",
        "    print(tabulate(metrics_table, headers = ['Métrica', 'Valor'], floatfmt = \".4f\", tablefmt = \"plain\"))"
      ],
      "metadata": {
        "id": "SxLAZyvUVSPl"
      },
      "execution_count": 43,
      "outputs": []
    },
    {
      "cell_type": "code",
      "source": [
        "def matriz(y_test, y_pred):\n",
        "  cm = confusion_matrix(y_test, y_pred)\n",
        "  tn, fp, fn, tp = cm.ravel()\n",
        "  print(\"-\"*30)\n",
        "  print(\"Matriz de confusión:\")\n",
        "  print(f\"{tp:>3} {fn:>3}\")\n",
        "  print(f\"{fp:>3} {tn:>3}\")"
      ],
      "metadata": {
        "id": "q_YGevbvmBW4"
      },
      "execution_count": 44,
      "outputs": []
    },
    {
      "cell_type": "markdown",
      "source": [
        "### Algoritmo Euclidiano\n"
      ],
      "metadata": {
        "id": "RytuH7o_RyxD"
      }
    },
    {
      "cell_type": "code",
      "source": [
        "from sklearn.neighbors import KNeighborsClassifier\n",
        "\n",
        "KNN = KNeighborsClassifier(n_neighbors = 1, metric = 'euclidean')\n",
        "KNN.fit(x_train, y_train)\n",
        "y_pred = KNN.predict(x_test)\n",
        "\n",
        "calcula_medidas(y_test, y_pred)\n",
        "matriz(y_test, y_pred)"
      ],
      "metadata": {
        "id": "asSo6UvpUm3B",
        "colab": {
          "base_uri": "https://localhost:8080/"
        },
        "outputId": "98f9a608-cde6-441c-cc5a-44b7b11cf73e"
      },
      "execution_count": 45,
      "outputs": [
        {
          "output_type": "stream",
          "name": "stdout",
          "text": [
            "Métrica                  Valor\n",
            "Accuracy                0.8245\n",
            "Error Rate              0.1755\n",
            "Recall (Sensibilidad)   0.5000\n",
            "Specificity             0.8427\n",
            "Balanced Accuracy       0.6713\n",
            "Precision               0.1515\n",
            "F1 Score                0.2326\n",
            "MCC                     0.2022\n",
            "ROC AUC                 0.6713\n",
            "------------------------------\n",
            "Matriz de confusión:\n",
            "  5   5\n",
            " 28 150\n"
          ]
        }
      ]
    },
    {
      "cell_type": "markdown",
      "source": [
        "### Algoritmo 1NN\n"
      ],
      "metadata": {
        "id": "M4IMdgaXfshq"
      }
    },
    {
      "cell_type": "code",
      "source": [
        "KNN = KNeighborsClassifier(n_neighbors = 1, metric = 'chebyshev')\n",
        "KNN.fit(x_train, y_train)\n",
        "y_pred = KNN.predict(x_test)\n",
        "\n",
        "calcula_medidas(y_test, y_pred)\n",
        "matriz(y_test, y_pred)"
      ],
      "metadata": {
        "id": "MIxEK2PkfyIT",
        "colab": {
          "base_uri": "https://localhost:8080/"
        },
        "outputId": "30b65e08-039c-423f-c807-f0b8014d564a"
      },
      "execution_count": 46,
      "outputs": [
        {
          "output_type": "stream",
          "name": "stdout",
          "text": [
            "Métrica                  Valor\n",
            "Accuracy                0.8298\n",
            "Error Rate              0.1702\n",
            "Recall (Sensibilidad)   0.5000\n",
            "Specificity             0.8483\n",
            "Balanced Accuracy       0.6742\n",
            "Precision               0.1562\n",
            "F1 Score                0.2381\n",
            "MCC                     0.2080\n",
            "ROC AUC                 0.6742\n",
            "------------------------------\n",
            "Matriz de confusión:\n",
            "  5   5\n",
            " 27 151\n"
          ]
        }
      ]
    },
    {
      "cell_type": "markdown",
      "source": [
        "### Algoritmo 3NN"
      ],
      "metadata": {
        "id": "c-HCUcJPhHAA"
      }
    },
    {
      "cell_type": "code",
      "source": [
        "KNN = KNeighborsClassifier(n_neighbors = 3, metric = 'chebyshev')\n",
        "KNN.fit(x_train, y_train)\n",
        "y_pred = KNN.predict(x_test)\n",
        "\n",
        "calcula_medidas(y_test, y_pred)\n",
        "matriz(y_test, y_pred)"
      ],
      "metadata": {
        "id": "pCYKkEnFhc7m",
        "colab": {
          "base_uri": "https://localhost:8080/"
        },
        "outputId": "5765eaab-16a6-4df1-db05-b8e3fcb3a295"
      },
      "execution_count": 47,
      "outputs": [
        {
          "output_type": "stream",
          "name": "stdout",
          "text": [
            "Métrica                  Valor\n",
            "Accuracy                0.8298\n",
            "Error Rate              0.1702\n",
            "Recall (Sensibilidad)   0.8000\n",
            "Specificity             0.8315\n",
            "Balanced Accuracy       0.8157\n",
            "Precision               0.2105\n",
            "F1 Score                0.3333\n",
            "MCC                     0.3529\n",
            "ROC AUC                 0.8157\n",
            "------------------------------\n",
            "Matriz de confusión:\n",
            "  8   2\n",
            " 30 148\n"
          ]
        }
      ]
    },
    {
      "cell_type": "markdown",
      "source": [
        "### Algoritmo 5NN"
      ],
      "metadata": {
        "id": "5Vc6bo6JhnyV"
      }
    },
    {
      "cell_type": "code",
      "source": [
        "KNN = KNeighborsClassifier(n_neighbors = 5, metric = 'chebyshev')\n",
        "KNN.fit(x_train, y_train)\n",
        "y_pred = KNN.predict(x_test)\n",
        "\n",
        "calcula_medidas(y_test, y_pred)\n",
        "matriz(y_test, y_pred)"
      ],
      "metadata": {
        "id": "9dkJaP_chqPB",
        "colab": {
          "base_uri": "https://localhost:8080/"
        },
        "outputId": "5866aa2c-c517-4236-fdff-7d905ddf25ca"
      },
      "execution_count": 48,
      "outputs": [
        {
          "output_type": "stream",
          "name": "stdout",
          "text": [
            "Métrica                  Valor\n",
            "Accuracy                0.8191\n",
            "Error Rate              0.1809\n",
            "Recall (Sensibilidad)   0.6000\n",
            "Specificity             0.8315\n",
            "Balanced Accuracy       0.7157\n",
            "Precision               0.1667\n",
            "F1 Score                0.2609\n",
            "MCC                     0.2461\n",
            "ROC AUC                 0.7157\n",
            "------------------------------\n",
            "Matriz de confusión:\n",
            "  6   4\n",
            " 30 148\n"
          ]
        }
      ]
    },
    {
      "cell_type": "markdown",
      "source": [
        "### Algoritmo 7NN"
      ],
      "metadata": {
        "id": "vCM30H_biH_G"
      }
    },
    {
      "cell_type": "code",
      "source": [
        "KNN = KNeighborsClassifier(n_neighbors = 7, metric = 'chebyshev')\n",
        "KNN.fit(x_train, y_train)\n",
        "y_pred = KNN.predict(x_test)\n",
        "\n",
        "calcula_medidas(y_test, y_pred)\n",
        "matriz(y_test, y_pred)"
      ],
      "metadata": {
        "id": "D_ZJomfUiKU0",
        "colab": {
          "base_uri": "https://localhost:8080/"
        },
        "outputId": "0f85fdfc-62df-4f12-aaea-13f473afc187"
      },
      "execution_count": 49,
      "outputs": [
        {
          "output_type": "stream",
          "name": "stdout",
          "text": [
            "Métrica                  Valor\n",
            "Accuracy                0.8245\n",
            "Error Rate              0.1755\n",
            "Recall (Sensibilidad)   0.7000\n",
            "Specificity             0.8315\n",
            "Balanced Accuracy       0.7657\n",
            "Precision               0.1892\n",
            "F1 Score                0.2979\n",
            "MCC                     0.3000\n",
            "ROC AUC                 0.7657\n",
            "------------------------------\n",
            "Matriz de confusión:\n",
            "  7   3\n",
            " 30 148\n"
          ]
        }
      ]
    },
    {
      "cell_type": "markdown",
      "source": [
        "### Algoritmo IB1\n"
      ],
      "metadata": {
        "id": "sB16Q6S-iUGB"
      }
    },
    {
      "cell_type": "code",
      "source": [
        "KNN = KNeighborsClassifier(n_neighbors = 1, metric = 'manhattan')\n",
        "KNN.fit(x_train, y_train)\n",
        "y_pred = KNN.predict(x_test)\n",
        "\n",
        "calcula_medidas(y_test, y_pred)\n",
        "matriz(y_test, y_pred)"
      ],
      "metadata": {
        "id": "728uGiRSiaG-",
        "colab": {
          "base_uri": "https://localhost:8080/"
        },
        "outputId": "df49e42e-fa13-4e53-9946-c6c859765c29"
      },
      "execution_count": 50,
      "outputs": [
        {
          "output_type": "stream",
          "name": "stdout",
          "text": [
            "Métrica                  Valor\n",
            "Accuracy                0.8617\n",
            "Error Rate              0.1383\n",
            "Recall (Sensibilidad)   0.5000\n",
            "Specificity             0.8820\n",
            "Balanced Accuracy       0.6910\n",
            "Precision               0.1923\n",
            "F1 Score                0.2778\n",
            "MCC                     0.2483\n",
            "ROC AUC                 0.6910\n",
            "------------------------------\n",
            "Matriz de confusión:\n",
            "  5   5\n",
            " 21 157\n"
          ]
        }
      ]
    },
    {
      "cell_type": "markdown",
      "source": [
        "### Algoritmo IB3"
      ],
      "metadata": {
        "id": "jX6YhCNgmqSU"
      }
    },
    {
      "cell_type": "code",
      "source": [
        "KNN = KNeighborsClassifier(n_neighbors = 3, metric = 'manhattan')\n",
        "KNN.fit(x_train, y_train)\n",
        "y_pred = KNN.predict(x_test)\n",
        "\n",
        "calcula_medidas(y_test, y_pred)\n",
        "matriz(y_test, y_pred)"
      ],
      "metadata": {
        "id": "v_uw91gTms5Q",
        "colab": {
          "base_uri": "https://localhost:8080/"
        },
        "outputId": "aee773f4-773c-4774-ee92-dda05c68f7cc"
      },
      "execution_count": 51,
      "outputs": [
        {
          "output_type": "stream",
          "name": "stdout",
          "text": [
            "Métrica                  Valor\n",
            "Accuracy                0.8670\n",
            "Error Rate              0.1330\n",
            "Recall (Sensibilidad)   0.8000\n",
            "Specificity             0.8708\n",
            "Balanced Accuracy       0.8354\n",
            "Precision               0.2581\n",
            "F1 Score                0.3902\n",
            "MCC                     0.4057\n",
            "ROC AUC                 0.8354\n",
            "------------------------------\n",
            "Matriz de confusión:\n",
            "  8   2\n",
            " 23 155\n"
          ]
        }
      ]
    },
    {
      "cell_type": "markdown",
      "source": [
        "### Algoritmo IB5\n"
      ],
      "metadata": {
        "id": "TIVVlPOVnXmT"
      }
    },
    {
      "cell_type": "code",
      "source": [
        "KNN = KNeighborsClassifier(n_neighbors = 5, metric = 'manhattan')\n",
        "KNN.fit(x_train, y_train)\n",
        "y_pred = KNN.predict(x_test)\n",
        "\n",
        "calcula_medidas(y_test, y_pred)\n",
        "matriz(y_test, y_pred)"
      ],
      "metadata": {
        "id": "Hbj0FzJGngap",
        "colab": {
          "base_uri": "https://localhost:8080/"
        },
        "outputId": "64abc29d-102a-46cd-e785-fadcefa0c227"
      },
      "execution_count": 52,
      "outputs": [
        {
          "output_type": "stream",
          "name": "stdout",
          "text": [
            "Métrica                  Valor\n",
            "Accuracy                0.8564\n",
            "Error Rate              0.1436\n",
            "Recall (Sensibilidad)   0.7000\n",
            "Specificity             0.8652\n",
            "Balanced Accuracy       0.7826\n",
            "Precision               0.2258\n",
            "F1 Score                0.3415\n",
            "MCC                     0.3418\n",
            "ROC AUC                 0.7826\n",
            "------------------------------\n",
            "Matriz de confusión:\n",
            "  7   3\n",
            " 24 154\n"
          ]
        }
      ]
    },
    {
      "cell_type": "markdown",
      "source": [
        "### Algoritmo IB7\n"
      ],
      "metadata": {
        "id": "QjIoF_CInrqE"
      }
    },
    {
      "cell_type": "code",
      "source": [
        "KNN = KNeighborsClassifier(n_neighbors = 7, metric = 'manhattan')\n",
        "KNN.fit(x_train, y_train)\n",
        "y_pred = KNN.predict(x_test)\n",
        "\n",
        "calcula_medidas(y_test, y_pred)\n",
        "matriz(y_test, y_pred)"
      ],
      "metadata": {
        "id": "MXqfCCDGntsA",
        "colab": {
          "base_uri": "https://localhost:8080/"
        },
        "outputId": "2e45eeaf-4fdb-4684-e03d-1577d2f4ce9d"
      },
      "execution_count": 53,
      "outputs": [
        {
          "output_type": "stream",
          "name": "stdout",
          "text": [
            "Métrica                  Valor\n",
            "Accuracy                0.8457\n",
            "Error Rate              0.1543\n",
            "Recall (Sensibilidad)   0.7000\n",
            "Specificity             0.8539\n",
            "Balanced Accuracy       0.7770\n",
            "Precision               0.2121\n",
            "F1 Score                0.3256\n",
            "MCC                     0.3268\n",
            "ROC AUC                 0.7770\n",
            "------------------------------\n",
            "Matriz de confusión:\n",
            "  7   3\n",
            " 26 152\n"
          ]
        }
      ]
    },
    {
      "cell_type": "markdown",
      "source": [
        "### Naive Bayes"
      ],
      "metadata": {
        "id": "P_0DmPm8oAxu"
      }
    },
    {
      "cell_type": "code",
      "source": [
        "from sklearn.naive_bayes import GaussianNB\n",
        "\n",
        "NB = GaussianNB()\n",
        "NB.fit(x_train, y_train)\n",
        "y_pred = NB.predict(x_test)\n",
        "\n",
        "calcula_medidas(y_test, y_pred)\n",
        "matriz(y_test, y_pred)"
      ],
      "metadata": {
        "id": "pVwjNRRjoD2z",
        "colab": {
          "base_uri": "https://localhost:8080/"
        },
        "outputId": "ccbb4009-b6f7-4e83-fa90-a092bdcb715e"
      },
      "execution_count": 54,
      "outputs": [
        {
          "output_type": "stream",
          "name": "stdout",
          "text": [
            "Métrica                  Valor\n",
            "Accuracy                0.2819\n",
            "Error Rate              0.7181\n",
            "Recall (Sensibilidad)   0.7000\n",
            "Specificity             0.2584\n",
            "Balanced Accuracy       0.4792\n",
            "Precision               0.0504\n",
            "F1 Score                0.0940\n",
            "MCC                    -0.0213\n",
            "ROC AUC                 0.4792\n",
            "------------------------------\n",
            "Matriz de confusión:\n",
            "  7   3\n",
            "132  46\n"
          ]
        }
      ]
    },
    {
      "cell_type": "markdown",
      "source": [
        "### Regresión Logística"
      ],
      "metadata": {
        "id": "VrUx6lqQo6-D"
      }
    },
    {
      "cell_type": "code",
      "source": [
        "from sklearn.linear_model import LogisticRegression\n",
        "\n",
        "LR = LogisticRegression()\n",
        "LR.fit(x_train, y_train)\n",
        "y_pred = LR.predict(x_test)\n",
        "\n",
        "calcula_medidas(y_test, y_pred)\n",
        "matriz(y_test, y_pred )"
      ],
      "metadata": {
        "id": "yZTNEI4bo-cA",
        "colab": {
          "base_uri": "https://localhost:8080/"
        },
        "outputId": "e3f8f3db-5ce1-4f3d-9672-8cb8f5e4e4b8"
      },
      "execution_count": 55,
      "outputs": [
        {
          "output_type": "stream",
          "name": "stdout",
          "text": [
            "Métrica                  Valor\n",
            "Accuracy                0.9043\n",
            "Error Rate              0.0957\n",
            "Recall (Sensibilidad)   0.7000\n",
            "Specificity             0.9157\n",
            "Balanced Accuracy       0.8079\n",
            "Precision               0.3182\n",
            "F1 Score                0.4375\n",
            "MCC                     0.4299\n",
            "ROC AUC                 0.8079\n",
            "------------------------------\n",
            "Matriz de confusión:\n",
            "  7   3\n",
            " 15 163\n"
          ]
        },
        {
          "output_type": "stream",
          "name": "stderr",
          "text": [
            "/usr/local/lib/python3.11/dist-packages/sklearn/linear_model/_logistic.py:465: ConvergenceWarning: lbfgs failed to converge (status=1):\n",
            "STOP: TOTAL NO. OF ITERATIONS REACHED LIMIT.\n",
            "\n",
            "Increase the number of iterations (max_iter) or scale the data as shown in:\n",
            "    https://scikit-learn.org/stable/modules/preprocessing.html\n",
            "Please also refer to the documentation for alternative solver options:\n",
            "    https://scikit-learn.org/stable/modules/linear_model.html#logistic-regression\n",
            "  n_iter_i = _check_optimize_result(\n"
          ]
        }
      ]
    },
    {
      "cell_type": "markdown",
      "source": [
        "### SVM"
      ],
      "metadata": {
        "id": "UX0ZFk-7qAMh"
      }
    },
    {
      "cell_type": "code",
      "source": [
        "from sklearn.svm import SVC\n",
        "\n",
        "svc = SVC()\n",
        "svc.fit(x_train, y_train)\n",
        "y_pred = svc.predict(x_test)\n",
        "\n",
        "calcula_medidas(y_test, y_pred)\n",
        "matriz(y_test, y_pred)"
      ],
      "metadata": {
        "id": "us_FwqzPqDM0",
        "colab": {
          "base_uri": "https://localhost:8080/"
        },
        "outputId": "adcf3e6e-8347-4427-afe6-7ae0bfc1f330"
      },
      "execution_count": 56,
      "outputs": [
        {
          "output_type": "stream",
          "name": "stdout",
          "text": [
            "Métrica                  Valor\n",
            "Accuracy                0.8670\n",
            "Error Rate              0.1330\n",
            "Recall (Sensibilidad)   0.4000\n",
            "Specificity             0.8933\n",
            "Balanced Accuracy       0.6466\n",
            "Precision               0.1739\n",
            "F1 Score                0.2424\n",
            "MCC                     0.2008\n",
            "ROC AUC                 0.6466\n",
            "------------------------------\n",
            "Matriz de confusión:\n",
            "  4   6\n",
            " 19 159\n"
          ]
        }
      ]
    },
    {
      "cell_type": "markdown",
      "source": [
        "### Árbol de desición"
      ],
      "metadata": {
        "id": "XUm5ODM1q_rH"
      }
    },
    {
      "cell_type": "code",
      "source": [
        "from sklearn.tree import DecisionTreeClassifier\n",
        "\n",
        "DT = DecisionTreeClassifier()\n",
        "DT.fit(x_train, y_train)\n",
        "y_pred = DT.predict(x_test)\n",
        "\n",
        "calcula_medidas(y_test, y_pred)\n",
        "matriz(y_test, y_pred)"
      ],
      "metadata": {
        "id": "0NzgD0owrEpO",
        "colab": {
          "base_uri": "https://localhost:8080/"
        },
        "outputId": "7693b7d8-343c-4ce6-fb78-4e50d7ef7c96"
      },
      "execution_count": 57,
      "outputs": [
        {
          "output_type": "stream",
          "name": "stdout",
          "text": [
            "Métrica                  Valor\n",
            "Accuracy                0.9468\n",
            "Error Rate              0.0532\n",
            "Recall (Sensibilidad)   0.4000\n",
            "Specificity             0.9775\n",
            "Balanced Accuracy       0.6888\n",
            "Precision               0.5000\n",
            "F1 Score                0.4444\n",
            "MCC                     0.4197\n",
            "ROC AUC                 0.6888\n",
            "------------------------------\n",
            "Matriz de confusión:\n",
            "  4   6\n",
            "  4 174\n"
          ]
        }
      ]
    },
    {
      "cell_type": "markdown",
      "source": [
        "### Random Forest"
      ],
      "metadata": {
        "id": "8Nj9Zx_Gro2g"
      }
    },
    {
      "cell_type": "code",
      "source": [
        "from sklearn.ensemble import RandomForestClassifier\n",
        "\n",
        "RF = RandomForestClassifier()\n",
        "RF.fit(x_train, y_train)\n",
        "y_pred = RF.predict(x_test)\n",
        "\n",
        "calcula_medidas(y_test, y_pred)\n",
        "matriz(y_test, y_pred)"
      ],
      "metadata": {
        "id": "0a4QfpykrsJX",
        "colab": {
          "base_uri": "https://localhost:8080/"
        },
        "outputId": "50562878-e34c-41e4-b133-0cb3da266bb4"
      },
      "execution_count": 58,
      "outputs": [
        {
          "output_type": "stream",
          "name": "stdout",
          "text": [
            "Métrica                  Valor\n",
            "Accuracy                0.9734\n",
            "Error Rate              0.0266\n",
            "Recall (Sensibilidad)   0.6000\n",
            "Specificity             0.9944\n",
            "Balanced Accuracy       0.7972\n",
            "Precision               0.8571\n",
            "F1 Score                0.7059\n",
            "MCC                     0.7045\n",
            "ROC AUC                 0.7972\n",
            "------------------------------\n",
            "Matriz de confusión:\n",
            "  6   4\n",
            "  1 177\n"
          ]
        }
      ]
    },
    {
      "cell_type": "markdown",
      "source": [
        "### Red Neuronal"
      ],
      "metadata": {
        "id": "45eis99t2KtO"
      }
    },
    {
      "cell_type": "code",
      "source": [
        "import tensorflow as tf\n",
        "import random\n",
        "from tensorflow.keras.models import Sequential\n",
        "from tensorflow.keras.layers import Dense\n",
        "from tensorflow.keras.optimizers import Adam\n",
        "from tensorflow.keras.initializers import HeNormal\n",
        "import numpy as np\n",
        "\n",
        "# Establecer semilla\n",
        "SEED = 7\n",
        "np.random.seed(SEED)\n",
        "tf.random.set_seed(SEED)\n",
        "random.seed(SEED)\n",
        "\n",
        "model = Sequential([\n",
        "    Dense(21, activation='relu', input_shape=(x_train.shape[1],), kernel_initializer=HeNormal(seed=SEED)),\n",
        "    Dense(33, activation='relu', kernel_initializer=HeNormal(seed=SEED)),\n",
        "    Dense(1, activation='sigmoid')  # Salida binaria\n",
        "])\n",
        "\n",
        "model.compile(optimizer=Adam(learning_rate=0.003), loss='binary_crossentropy', metrics=['accuracy'])\n",
        "\n",
        "model.fit(\n",
        "    x_train, y_train,\n",
        "    epochs=50,\n",
        "    batch_size=16,\n",
        "    validation_split=0.2,\n",
        "    verbose=0\n",
        ")\n",
        "\n",
        "y_prob = model.predict(x_test).ravel()\n",
        "y_pred = (y_prob >= 0.30).astype(int)\n",
        "\n",
        "calcula_medidas(y_test, y_pred)\n",
        "matriz(y_test, y_pred)\n"
      ],
      "metadata": {
        "id": "0vbKljaHGehR",
        "colab": {
          "base_uri": "https://localhost:8080/"
        },
        "outputId": "d392e5d7-8c32-41df-fc18-084e5b9c566c"
      },
      "execution_count": 77,
      "outputs": [
        {
          "output_type": "stream",
          "name": "stderr",
          "text": [
            "/usr/local/lib/python3.11/dist-packages/keras/src/layers/core/dense.py:87: UserWarning: Do not pass an `input_shape`/`input_dim` argument to a layer. When using Sequential models, prefer using an `Input(shape)` object as the first layer in the model instead.\n",
            "  super().__init__(activity_regularizer=activity_regularizer, **kwargs)\n"
          ]
        },
        {
          "output_type": "stream",
          "name": "stdout",
          "text": [
            "\u001b[1m6/6\u001b[0m \u001b[32m━━━━━━━━━━━━━━━━━━━━\u001b[0m\u001b[37m\u001b[0m \u001b[1m0s\u001b[0m 11ms/step\n",
            "Métrica                  Valor\n",
            "Accuracy                0.9574\n",
            "Error Rate              0.0426\n",
            "Recall (Sensibilidad)   0.6000\n",
            "Specificity             0.9775\n",
            "Balanced Accuracy       0.7888\n",
            "Precision               0.6000\n",
            "F1 Score                0.6000\n",
            "MCC                     0.5775\n",
            "ROC AUC                 0.7888\n",
            "------------------------------\n",
            "Matriz de confusión:\n",
            "  6   4\n",
            "  4 174\n"
          ]
        }
      ]
    },
    {
      "cell_type": "code",
      "source": [],
      "metadata": {
        "id": "Z9QVGs5oAKG2"
      },
      "execution_count": null,
      "outputs": []
    }
  ]
}